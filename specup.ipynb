{
 "cells": [
  {
   "cell_type": "code",
   "execution_count": 1,
   "metadata": {},
   "outputs": [],
   "source": [
    "import requests\n",
    "from bs4 import BeautifulSoup\n",
    "import os"
   ]
  },
  {
   "cell_type": "markdown",
   "metadata": {},
   "source": [
    "## 스펙업 공모전 이름과 주소 크롤링 하기"
   ]
  },
  {
   "cell_type": "markdown",
   "metadata": {},
   "source": [
    "**파싱을 하다가 iframe과 그 안에 html 한번 더 나오는 것을 확인**   \n",
    "**-> 이는 javascript로 다른 페이지를 이 안에 끼워 넣은 구조임**   \n",
    "**때문에 실제 소스는 여기서 보이지 않고, 우리 눈에는 링크를 타고 온 결과물만 보여짐**  \n",
    "**iframe 안에 있는 src(링크)를 타고 넘어가서 다시 크롤링하는 방식으로 해결!**  "
   ]
  },
  {
   "cell_type": "code",
   "execution_count": 5,
   "metadata": {
    "scrolled": true
   },
   "outputs": [
    {
     "data": {
      "text/plain": [
       "[<iframe allowfullscreen=\"\" allowtransparency=\"true\" frameborder=\"0\" height=\"100%\" id=\"cafe_main\" marginheight=\"0\" marginwidth=\"0\" name=\"cafe_main\" scrolling=\"no\" src=\"about:blank\" title=\"Ä«Æä ¸ŞÀÎ\" width=\"860\"></iframe>]"
      ]
     },
     "execution_count": 5,
     "metadata": {},
     "output_type": "execute_result"
    }
   ],
   "source": [
    "html = requests.get('https://cafe.naver.com/specup/6441570').content\n",
    "#soup = BeautifulSoup(html, 'html.parser')\n",
    "soup = BeautifulSoup(html, 'lxml')\n",
    "data = soup.select('div#cafe-body-skin > div#cafe-body > div#content-area > div > iframe#cafe_main')\n",
    "\n",
    "data"
   ]
  },
  {
   "cell_type": "markdown",
   "metadata": {},
   "source": [
    "**tr에서 짝수 홀수로 나눠져 있어서 2개를 모은 후에 하나로 합침**  "
   ]
  },
  {
   "cell_type": "code",
   "execution_count": 6,
   "metadata": {},
   "outputs": [
    {
     "name": "stdout",
     "output_type": "stream",
     "text": [
      "크롤링된 공모전 수:  50\n"
     ]
    }
   ],
   "source": [
    "html = requests.get('https://linkareer.com/specup_list/3?utm_source=cafe_specup&utm_medium=weeklist_activity&utm_campaign=weekly_list').content\n",
    "#soup = BeautifulSoup(html, 'html.parser')\n",
    "soup = BeautifulSoup(html, 'lxml')\n",
    "data_even = soup.select('div.container > div#table-1.table-wrapper > table > tbody > tr.even > td.title > a')\n",
    "data_odd = soup.select('div.container > div#table-1.table-wrapper > table > tbody > tr.odd > td.title > a')\n",
    "data = data_even + data_odd\n",
    "\n",
    "print(\"크롤링된 공모전 수: \", len(data))"
   ]
  },
  {
   "cell_type": "code",
   "execution_count": 7,
   "metadata": {
    "scrolled": true
   },
   "outputs": [
    {
     "name": "stdout",
     "output_type": "stream",
     "text": [
      "역 편의정보 공공데이터 활용 아이디어 기획 및 서비스 개발 공모전 https://linkareer.com/activity/42451?utm_source=cafe_specup&utm_medium=weeklist_contest&utm_campaign=weekly_list\n",
      "충청북도광역치매센터 제6회 치매인식개선 시화·수기 공모전 https://linkareer.com/activity/34404?utm_source=cafe_specup&utm_medium=weeklist_contest&utm_campaign=weekly_list\n",
      "제3회 해운신사업아이디어경진대회 https://linkareer.com/activity/40126?utm_source=cafe_specup&utm_medium=weeklist_contest&utm_campaign=weekly_list\n",
      "[데이콘] 제주 빅데이터 경진대회 https://linkareer.com/activity/40710?utm_source=cafe_specup&utm_medium=weeklist_contest&utm_campaign=weekly_list\n",
      "한국증진개발원 100초 영상 공모전 https://linkareer.com/activity/41091?utm_source=cafe_specup&utm_medium=weeklist_contest&utm_campaign=weekly_list\n",
      "2020 부산여행 온라인 공모전 https://linkareer.com/activity/42066?utm_source=cafe_specup&utm_medium=weeklist_contest&utm_campaign=weekly_list\n",
      "(주)마이샵온샵 2020 나트륨 당류 저감요리 경연대회 https://linkareer.com/activity/41746?utm_source=cafe_specup&utm_medium=weeklist_contest&utm_campaign=weekly_list\n",
      "경찰청 제8회 과학수사 기법·장비·아이디어 공모전 https://linkareer.com/activity/36502?utm_source=cafe_specup&utm_medium=weeklist_contest&utm_campaign=weekly_list\n",
      "제주특별자치도의회 2020년 자치입법 정책 아이디어 공모 https://linkareer.com/activity/37823?utm_source=cafe_specup&utm_medium=weeklist_contest&utm_campaign=weekly_list\n",
      "경상남도 창원시 2020 양성평등 콘텐츠 공모전 https://linkareer.com/activity/40361?utm_source=cafe_specup&utm_medium=weeklist_contest&utm_campaign=weekly_list\n",
      "국토교통부 자율협력주행 및 C-ITS 서비스 아이디어/사업모델 공모전 https://linkareer.com/activity/40664?utm_source=cafe_specup&utm_medium=weeklist_contest&utm_campaign=weekly_list\n",
      "kt cs 제1회 2020 KTCS 유니벤처 경진대회 https://linkareer.com/activity/41016?utm_source=cafe_specup&utm_medium=weeklist_contest&utm_campaign=weekly_list\n",
      "에너지산업진흥원 전국 대학(원)생 미래 혁신원자력 아이디어 공모전 및 세미나 https://linkareer.com/activity/41348?utm_source=cafe_specup&utm_medium=weeklist_contest&utm_campaign=weekly_list\n",
      "[KT X 데이콘] 포스트 코로나 데이터 시각화 경진대회 https://linkareer.com/activity/41390?utm_source=cafe_specup&utm_medium=weeklist_contest&utm_campaign=weekly_list\n",
      "2020 UnivExpo Busan X 부산 사회적경제 지원 기금 (BEF) 대학생 아이디어 공모전 https://linkareer.com/activity/41642?utm_source=cafe_specup&utm_medium=weeklist_contest&utm_campaign=weekly_list\n",
      "삼성전기 유튜브 콘텐츠 아이디어 공모전 https://linkareer.com/activity/41900?utm_source=cafe_specup&utm_medium=weeklist_contest&utm_campaign=weekly_list\n",
      "NH농협은행 고객과 함께하는 DT혁신 아이디어 공모전 https://linkareer.com/activity/42245?utm_source=cafe_specup&utm_medium=weeklist_contest&utm_campaign=weekly_list\n",
      "2020 BEF X UnivExpo Social by Social 아이디어 공모전 https://linkareer.com/activity/42421?utm_source=cafe_specup&utm_medium=weeklist_contest&utm_campaign=weekly_list\n",
      "모든 세대의 삶이 존중되는 성남시 인구정책 아이디어 https://linkareer.com/activity/42670?utm_source=cafe_specup&utm_medium=weeklist_contest&utm_campaign=weekly_list\n",
      "2020년 ICT 모의 분쟁조정 경연대회 https://linkareer.com/activity/42707?utm_source=cafe_specup&utm_medium=weeklist_contest&utm_campaign=weekly_list\n",
      "2020년도 자원순환분야 사회적경제 아이디어 공모전 https://linkareer.com/activity/42840?utm_source=cafe_specup&utm_medium=weeklist_contest&utm_campaign=weekly_list\n",
      "나만의 아이디어 실현 가능성을 발표하여 상금도 얻는 소규모 경진대회 https://linkareer.com/activity/43137?utm_source=cafe_specup&utm_medium=weeklist_contest&utm_campaign=weekly_list\n",
      "「함께 만드는 명품산청, 같이누리는 행복산청」실현을 위한 2020년 국민 아이디어 공모 https://linkareer.com/activity/42172?utm_source=cafe_specup&utm_medium=weeklist_contest&utm_campaign=weekly_list\n",
      "미국북서부체리협회 2020 미국북서부체리 사진 & UCC 공모전 https://linkareer.com/activity/41268?utm_source=cafe_specup&utm_medium=weeklist_contest&utm_campaign=weekly_list\n",
      "2020년 제7회 소프트웨어(SW) 개발보안 경진대회 개최 https://linkareer.com/activity/42674?utm_source=cafe_specup&utm_medium=weeklist_contest&utm_campaign=weekly_list\n",
      "서울 캠퍼스타운 FOOD STARTUP 경진대회(~7.31) https://linkareer.com/activity/43129?utm_source=cafe_specup&utm_medium=weeklist_contest&utm_campaign=weekly_list\n",
      "한국장애인개발원 제2회 유니버설디자인 아이디어 공모전 https://linkareer.com/activity/34454?utm_source=cafe_specup&utm_medium=weeklist_contest&utm_campaign=weekly_list\n",
      "창원시 2020년 여성공감 생활아이디어 공모대전 https://linkareer.com/activity/40447?utm_source=cafe_specup&utm_medium=weeklist_contest&utm_campaign=weekly_list\n",
      "금정구 정책 아이디어 공모 https://linkareer.com/activity/40998?utm_source=cafe_specup&utm_medium=weeklist_contest&utm_campaign=weekly_list\n",
      "국유재산 홍보영상 국민 아이디어 공모전 https://linkareer.com/activity/42041?utm_source=cafe_specup&utm_medium=weeklist_contest&utm_campaign=weekly_list\n",
      "서울시 소상공인 지원을 위한 상권분석 빅데이터 경진대회 개최 https://linkareer.com/activity/41730?utm_source=cafe_specup&utm_medium=weeklist_contest&utm_campaign=weekly_list\n",
      "[인천콘텐츠코리아랩] 스타트업 부팅 프로젝트 https://linkareer.com/activity/43288?utm_source=cafe_specup&utm_medium=weeklist_contest&utm_campaign=weekly_list\n",
      "산업통상자원부 2020 에너지 문화예술 콘텐츠 아이디어 공모전 https://linkareer.com/activity/36673?utm_source=cafe_specup&utm_medium=weeklist_contest&utm_campaign=weekly_list\n",
      "영양군 정책 아이디어 공모전 https://linkareer.com/activity/38261?utm_source=cafe_specup&utm_medium=weeklist_contest&utm_campaign=weekly_list\n",
      "거제해양관광개발공사 제 1회 유튜브 영상 공모전 https://linkareer.com/activity/40607?utm_source=cafe_specup&utm_medium=weeklist_contest&utm_campaign=weekly_list\n",
      "한국보건산업진흥원 보건산업 정책 아이디어 공모전 https://linkareer.com/activity/40712?utm_source=cafe_specup&utm_medium=weeklist_contest&utm_campaign=weekly_list\n",
      "국립광주과학관 제2회 Math Art 작품공모전 https://linkareer.com/activity/41033?utm_source=cafe_specup&utm_medium=weeklist_contest&utm_campaign=weekly_list\n",
      "중소기업중앙회 중소기업 바로알리기 제11회 아이디어 공모전 https://linkareer.com/activity/41356?utm_source=cafe_specup&utm_medium=weeklist_contest&utm_campaign=weekly_list\n",
      "4.16 재단 [공모 기간 연장] 4.16 별별 아이디어 공모전 https://linkareer.com/activity/41523?utm_source=cafe_specup&utm_medium=weeklist_contest&utm_campaign=weekly_list\n",
      "[현대엔지니어링] 2020년 건축&주택 분야 스마트건설 기술 공모전 https://linkareer.com/activity/41713?utm_source=cafe_specup&utm_medium=weeklist_contest&utm_campaign=weekly_list\n",
      "환경보전 및 에너지 절감 아이디어 공모전 https://linkareer.com/activity/42165?utm_source=cafe_specup&utm_medium=weeklist_contest&utm_campaign=weekly_list\n",
      "2020년 문화·관광 빅 데이터 분석대회 https://linkareer.com/activity/42268?utm_source=cafe_specup&utm_medium=weeklist_contest&utm_campaign=weekly_list\n",
      "어린이 교통안전 슬로건 대국민 아이디어 공모 https://linkareer.com/activity/42449?utm_source=cafe_specup&utm_medium=weeklist_contest&utm_campaign=weekly_list\n",
      "2020 『내가 한국바로알리기의 주인공』 에세이 공모 https://linkareer.com/activity/42682?utm_source=cafe_specup&utm_medium=weeklist_contest&utm_campaign=weekly_list\n",
      "제 1회 증평군 아동정책 혁신 창안대회 https://linkareer.com/activity/42799?utm_source=cafe_specup&utm_medium=weeklist_contest&utm_campaign=weekly_list\n",
      "한전KDN(주) Post-Corona 대응 ICT 기술활용 아이디어 공 https://linkareer.com/activity/43029?utm_source=cafe_specup&utm_medium=weeklist_contest&utm_campaign=weekly_list\n",
      "디투 제2회 청소년 흡연예방 문화제 공모요강 https://linkareer.com/activity/41739?utm_source=cafe_specup&utm_medium=weeklist_contest&utm_campaign=weekly_list\n",
      "대한민국인재연합회 2020년 제2회 전국Y톤아이디어경진대회 https://linkareer.com/activity/37060?utm_source=cafe_specup&utm_medium=weeklist_contest&utm_campaign=weekly_list\n",
      "한국사회복지협의회 ​언택트(Untact) 사회공헌 아이디어 공모전 https://linkareer.com/activity/41734?utm_source=cafe_specup&utm_medium=weeklist_contest&utm_campaign=weekly_list\n",
      "2020 경북콘텐츠코리아랩 크라우드 펀딩 지원 프로그램 https://linkareer.com/activity/42958?utm_source=cafe_specup&utm_medium=weeklist_contest&utm_campaign=weekly_list\n"
     ]
    }
   ],
   "source": [
    "contest = {}\n",
    "\n",
    "for t in data:\n",
    "    # \"담당자 인증\" 삭제\n",
    "    li = t.get_text().split()\n",
    "    if (li[-2] == \"담당자\" and li[-1] == \"인증\"):\n",
    "        li = li[:-2]\n",
    "    name = ' '.join(li)\n",
    "    \n",
    "    contest[name] = t['href']\n",
    "    \n",
    "for key, value in contest.items():\n",
    "    print(key, value)"
   ]
  },
  {
   "cell_type": "code",
   "execution_count": null,
   "metadata": {},
   "outputs": [],
   "source": []
  }
 ],
 "metadata": {
  "kernelspec": {
   "display_name": "Python 3",
   "language": "python",
   "name": "python3"
  },
  "language_info": {
   "codemirror_mode": {
    "name": "ipython",
    "version": 3
   },
   "file_extension": ".py",
   "mimetype": "text/x-python",
   "name": "python",
   "nbconvert_exporter": "python",
   "pygments_lexer": "ipython3",
   "version": "3.7.3"
  }
 },
 "nbformat": 4,
 "nbformat_minor": 4
}
