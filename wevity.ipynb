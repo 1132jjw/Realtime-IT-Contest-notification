{
 "cells": [
  {
   "cell_type": "code",
   "execution_count": 1,
   "metadata": {},
   "outputs": [],
   "source": [
    "import requests\n",
    "from bs4 import BeautifulSoup\n",
    "import os"
   ]
  },
  {
   "cell_type": "markdown",
   "metadata": {},
   "source": [
    "## 공모전 이름과 주소 크롤링 하기"
   ]
  },
  {
   "cell_type": "code",
   "execution_count": 2,
   "metadata": {},
   "outputs": [
    {
     "name": "stdout",
     "output_type": "stream",
     "text": [
      "크롤링된 공모전 수:  35\n"
     ]
    }
   ],
   "source": [
    "html = requests.get('https://www.wevity.com/?c=find').content\n",
    "soup = BeautifulSoup(html, 'lxml')\n",
    "data = soup.select(\n",
    "    \"div > div > div > div > div.ms-list > ul.list > li > div.tit > a\")\n",
    "\n",
    "print(\"크롤링된 공모전 수: \", len(data))"
   ]
  },
  {
   "cell_type": "code",
   "execution_count": 3,
   "metadata": {
    "code_folding": [],
    "scrolled": true
   },
   "outputs": [
    {
     "name": "stdout",
     "output_type": "stream",
     "text": [
      "[무료] 2020년 8월 삼성 금융영업사관학교 과정 모집 신규 SPECIAL  https://www.wevity.com/?c=find&s=1&gbn=view&gp=1&ix=43777\n",
      "2020 경북콘텐츠코리아랩 콘텐츠 창작살롱 공모전 SPECIAL  https://www.wevity.com/?c=find&s=1&gbn=view&gp=1&ix=43762\n",
      "​2020 한우 영상 공모전 SPECIAL  https://www.wevity.com/?c=find&s=1&gbn=view&gp=1&ix=43673\n",
      "제2회 2020년 경기도 광고홍보제 공모전 SPECIAL  https://www.wevity.com/?c=find&s=1&gbn=view&gp=1&ix=43672\n",
      "2020 제2회 4.3과평화 영상 공모전 SPECIAL  https://www.wevity.com/?c=find&s=1&gbn=view&gp=1&ix=43650\n",
      "2020 식품안전나라 데이터 활용 아이디어·사례 공모전 SPECIAL  https://www.wevity.com/?c=find&s=1&gbn=view&gp=1&ix=43649\n",
      "2020 ICT콕 AI 공모전 SPECIAL  https://www.wevity.com/?c=find&s=1&gbn=view&gp=1&ix=43544\n",
      "2020 SMART CITY 시민참여 아이디어 경진대회 SPECIAL  https://www.wevity.com/?c=find&s=1&gbn=view&gp=1&ix=43508\n",
      "파주시 2020 SNS 영상 공모전 SPECIAL  https://www.wevity.com/?c=find&s=1&gbn=view&gp=1&ix=43497\n",
      "스타필드리밍 유튜브 영상 공모전 SPECIAL IDEA https://www.wevity.com/?c=find&s=1&gbn=view&gp=1&ix=43474\n",
      "보고싶다 정선아 단편 영화제 SPECIAL IDEA https://www.wevity.com/?c=find&s=1&gbn=view&gp=1&ix=43337\n",
      "2020 홍성군 문화·관광 유튜브 공모전 SPECIAL  https://www.wevity.com/?c=find&s=1&gbn=view&gp=1&ix=43329\n",
      "2020 홍성군 문화·관광 디카시 공모전 SPECIAL  https://www.wevity.com/?c=find&s=1&gbn=view&gp=1&ix=43328\n",
      "[국가균형발전위원회] 2020 국가균형발전 대국민 아이디어 공모전 SPECIAL  https://www.wevity.com/?c=find&s=1&gbn=view&gp=1&ix=43226\n",
      "LG 울트라기어 엠블럼 출시기념 팬아트 공모전 SPECIAL  https://www.wevity.com/?c=find&s=1&gbn=view&gp=1&ix=43215\n",
      "2020 삼성 모니터 디자인 공모전 SPECIAL  https://www.wevity.com/?c=find&s=1&gbn=view&gp=1&ix=43214\n",
      "2020 김포시 SNS 콘텐츠 공모전 SPECIAL  https://www.wevity.com/?c=find&s=1&gbn=view&gp=1&ix=43213\n",
      "2020 제 4회 식품외식산업 대학생 논문경진대회 SPECIAL  https://www.wevity.com/?c=find&s=1&gbn=view&gp=1&ix=43212\n",
      "2020 한목 디자인 공모전 (국산목재 활용 생활소품 디자인 공모전) SPECIAL  https://www.wevity.com/?c=find&s=1&gbn=view&gp=1&ix=43211\n",
      "2020 제3회 38초 다큐 공모전 SPECIAL  https://www.wevity.com/?c=find&s=1&gbn=view&gp=1&ix=43087\n",
      "2020 제1회 건전재정 영상제 공모전 SPECIAL  https://www.wevity.com/?c=find&s=1&gbn=view&gp=1&ix=42939\n",
      "ABL생명 A 배려 Life 영상콘텐츠 공모전 (마감 연장) SPECIAL IDEA https://www.wevity.com/?c=find&s=1&gbn=view&gp=1&ix=42668\n",
      "[기초과학연구원] IBS․기초과학 홍보콘텐츠 공모전 SPECIAL IDEA https://www.wevity.com/?c=find&s=1&gbn=view&gp=1&ix=42589\n",
      "제1회 코리아타임스 영어 프레젠테이션 대회 SPECIAL  https://www.wevity.com/?c=find&s=1&gbn=view&gp=1&ix=42511\n",
      "2020 화성호 전국 드론 영상·사진 공모전 SPECIAL  https://www.wevity.com/?c=find&s=1&gbn=view&gp=1&ix=42440\n",
      "2020 찾아라 생활 속 NTIS! NTIS 콘텐츠 공모전 SPECIAL  https://www.wevity.com/?c=find&s=1&gbn=view&gp=1&ix=42422\n",
      "2020 NTIS 정보활용경진대회 SPECIAL  https://www.wevity.com/?c=find&s=1&gbn=view&gp=1&ix=42421\n",
      "[과학기술정보통신부] 2020 융합연구 활성화 아이디어 공모전 SPECIAL  https://www.wevity.com/?c=find&s=1&gbn=view&gp=1&ix=42342\n",
      "2020년 국민 생활문제 해결을 위한 솔‧직 챌린지 SPECIAL  https://www.wevity.com/?c=find&s=1&gbn=view&gp=1&ix=42238\n",
      "2020 인생샷! 김칠구 사진 공모전 SPECIAL  https://www.wevity.com/?c=find&s=1&gbn=view&gp=1&ix=42029\n",
      "2020 일본군 위안부 피해자 명예회복을 위한 학술심포지엄 공모전 SPECIAL  https://www.wevity.com/?c=find&s=1&gbn=view&gp=1&ix=41496\n",
      "제8회 국민연금 연구과제 대(對) 국민 공모전 SPECIAL  https://www.wevity.com/?c=find&s=1&gbn=view&gp=1&ix=39603\n",
      "제4회 고양시 청소년 정책제안대회 신규  https://www.wevity.com/?c=find&s=1&gbn=view&gp=1&ix=43769\n",
      "2020 행복한 가족 그림 공모전   https://www.wevity.com/?c=find&s=1&gbn=view&gp=1&ix=43768\n",
      "산림청 2020 우리 나무 한목 사진 공모전   https://www.wevity.com/?c=find&s=1&gbn=view&gp=1&ix=43767\n"
     ]
    }
   ],
   "source": [
    "contest = {}\n",
    "\n",
    "for t in data:\n",
    "    name = t.get_text().replace(\"  \", \" \")\n",
    "    contest[name] = 'https://www.wevity.com/' + t['href']\n",
    "\n",
    "for key, value in contest.items():\n",
    "    print(key, value)"
   ]
  },
  {
   "cell_type": "markdown",
   "metadata": {},
   "source": [
    "## 공모전 기간 크롤링"
   ]
  },
  {
   "cell_type": "code",
   "execution_count": 4,
   "metadata": {},
   "outputs": [
    {
     "name": "stdout",
     "output_type": "stream",
     "text": [
      "36\n"
     ]
    }
   ],
   "source": [
    "data = soup.select(\n",
    "    \"div > div > div > div > div.ms-list > ul.list > li > div.day\")\n",
    "print(len(data))  # 현재현황이라는 이름의 데이터 때문에 1개 더많게 나옴"
   ]
  },
  {
   "cell_type": "code",
   "execution_count": 5,
   "metadata": {
    "scrolled": true
   },
   "outputs": [
    {
     "data": {
      "text/plain": [
       "['D-13접수중',\n",
       " 'D-13접수중',\n",
       " 'D-30접수중',\n",
       " 'D-28접수중',\n",
       " 'D-51접수중',\n",
       " 'D-81접수중',\n",
       " 'D-7마감임박',\n",
       " 'D-9접수중',\n",
       " 'D-60접수중',\n",
       " 'D-19접수중',\n",
       " 'D-7마감임박',\n",
       " 'D-26접수예정',\n",
       " 'D-26접수예정',\n",
       " 'D-9접수중',\n",
       " 'D-26접수중',\n",
       " 'D-26접수중',\n",
       " 'D-51접수중',\n",
       " 'D-26접수중',\n",
       " 'D-14접수예정',\n",
       " 'D-27접수중',\n",
       " 'D-4마감임박',\n",
       " 'D-9접수중',\n",
       " 'D-26접수중',\n",
       " 'D-4마감임박',\n",
       " 'D-75접수중',\n",
       " 'D-4마감임박',\n",
       " 'D-4마감임박',\n",
       " 'D-15접수중',\n",
       " 'D-9접수중',\n",
       " 'D-4마감임박',\n",
       " 'D-44접수중',\n",
       " 'D-26접수중',\n",
       " 'D-5마감임박',\n",
       " 'D-51접수중',\n",
       " 'D-18접수중']"
      ]
     },
     "execution_count": 5,
     "metadata": {},
     "output_type": "execute_result"
    }
   ],
   "source": [
    "days = []\n",
    "for t in data[1:]:\n",
    "    day = t.get_text().replace(\"\\n\", \"\")\n",
    "    day = day.replace(\"\\t\", \"\")\n",
    "    day = day.replace(\"\\r\", \"\")\n",
    "    days.append(day)\n",
    "\n",
    "days"
   ]
  },
  {
   "cell_type": "markdown",
   "metadata": {},
   "source": [
    "## 공모전 분야 크롤링"
   ]
  },
  {
   "cell_type": "code",
   "execution_count": 6,
   "metadata": {},
   "outputs": [
    {
     "name": "stdout",
     "output_type": "stream",
     "text": [
      "35\n"
     ]
    }
   ],
   "source": [
    "data = soup.select(\n",
    "    \"div > div > div > div > div.ms-list > ul.list > li > div.tit > div.sub-tit\"\n",
    ")\n",
    "print(len(data))"
   ]
  },
  {
   "cell_type": "code",
   "execution_count": 7,
   "metadata": {
    "scrolled": true
   },
   "outputs": [
    {
     "data": {
      "text/plain": [
       "[['분야 : 광고/마케팅', '예체능/미술/음악', '대외활동/서포터즈', '취업/창업', '기타'],\n",
       " ['분야 : 기획/아이디어',\n",
       "  '광고/마케팅',\n",
       "  '디자인/캐릭터/웹툰',\n",
       "  '웹/모바일/플래시',\n",
       "  '게임/소프트웨어',\n",
       "  '문학/글/시나리오',\n",
       "  '예체능/미술/음악'],\n",
       " ['분야 : 광고/마케팅', '영상/UCC/사진', '웹/모바일/플래시', '예체능/미술/음악', '기타'],\n",
       " ['분야 : 기획/아이디어', '광고/마케팅', '영상/UCC/사진', '디자인/캐릭터/웹툰', '예체능/미술/음악'],\n",
       " ['분야 : 광고/마케팅', '영상/UCC/사진', '웹/모바일/플래시', '예체능/미술/음악'],\n",
       " ['분야 : 기획/아이디어', '광고/마케팅', '논문/리포트', '웹/모바일/플래시', '게임/소프트웨어', '문학/글/시나리오'],\n",
       " ['분야 : 기획/아이디어', '논문/리포트', '웹/모바일/플래시', '게임/소프트웨어', '과학/공학'],\n",
       " ['분야 : 기획/아이디어', '광고/마케팅', '논문/리포트', '과학/공학', '건축/건설/인테리어', '예체능/미술/음악'],\n",
       " ['분야 : 광고/마케팅', '영상/UCC/사진', '웹/모바일/플래시', '예체능/미술/음악'],\n",
       " ['분야 : 광고/마케팅', '영상/UCC/사진', '예체능/미술/음악', '대외활동/서포터즈'],\n",
       " ['분야 : 광고/마케팅', '영상/UCC/사진', '웹/모바일/플래시', '예체능/미술/음악'],\n",
       " ['분야 : 광고/마케팅', '영상/UCC/사진', '웹/모바일/플래시', '예체능/미술/음악'],\n",
       " ['분야 : 영상/UCC/사진', '디자인/캐릭터/웹툰', '문학/글/시나리오', '예체능/미술/음악'],\n",
       " ['분야 : 기획/아이디어', '광고/마케팅', '논문/리포트', '문학/글/시나리오', '기타'],\n",
       " ['분야 : 광고/마케팅', '디자인/캐릭터/웹툰', '건축/건설/인테리어', '예체능/미술/음악', '기타'],\n",
       " ['분야 : 광고/마케팅', '디자인/캐릭터/웹툰', '건축/건설/인테리어', '예체능/미술/음악', '기타'],\n",
       " ['분야 : 광고/마케팅',\n",
       "  '영상/UCC/사진',\n",
       "  '디자인/캐릭터/웹툰',\n",
       "  '웹/모바일/플래시',\n",
       "  '예체능/미술/음악',\n",
       "  '대외활동/서포터즈'],\n",
       " ['분야 : 기획/아이디어', '논문/리포트', '과학/공학', '기타'],\n",
       " ['분야 : 디자인/캐릭터/웹툰', '건축/건설/인테리어', '예체능/미술/음악', '기타'],\n",
       " ['분야 : 광고/마케팅', '영상/UCC/사진', '웹/모바일/플래시', '예체능/미술/음악', '기타'],\n",
       " ['분야 : 광고/마케팅', '영상/UCC/사진', '예체능/미술/음악', '기타'],\n",
       " ['분야 : 광고/마케팅', '영상/UCC/사진', '웹/모바일/플래시', '예체능/미술/음악', '기타'],\n",
       " ['분야 : 광고/마케팅', '영상/UCC/사진', '디자인/캐릭터/웹툰', '과학/공학', '문학/글/시나리오', '예체능/미술/음악'],\n",
       " ['분야 : 기획/아이디어', '광고/마케팅', '논문/리포트', '영상/UCC/사진', '해외'],\n",
       " ['분야 : 광고/마케팅', '영상/UCC/사진', '과학/공학', '예체능/미술/음악', '대외활동/서포터즈'],\n",
       " ['분야 : 기획/아이디어', '영상/UCC/사진', '디자인/캐릭터/웹툰', '과학/공학', '예체능/미술/음악'],\n",
       " ['분야 : 기획/아이디어', '논문/리포트', '웹/모바일/플래시', '게임/소프트웨어', '과학/공학'],\n",
       " ['분야 : 기획/아이디어', '광고/마케팅', '과학/공학', '예체능/미술/음악'],\n",
       " ['분야 : 기획/아이디어', '광고/마케팅', '웹/모바일/플래시', '게임/소프트웨어', '과학/공학', '대외활동/서포터즈'],\n",
       " ['분야 : 광고/마케팅', '영상/UCC/사진', '예체능/미술/음악', '대외활동/서포터즈'],\n",
       " ['분야 : 기획/아이디어', '논문/리포트', '문학/글/시나리오', '예체능/미술/음악', '대외활동/서포터즈'],\n",
       " ['분야 : 기획/아이디어', '논문/리포트'],\n",
       " ['분야 : 기획/아이디어'],\n",
       " ['분야 : 예체능/미술/음악'],\n",
       " ['분야 : 영상/UCC/사진']]"
      ]
     },
     "execution_count": 7,
     "metadata": {},
     "output_type": "execute_result"
    }
   ],
   "source": [
    "fields = []\n",
    "for t in data:\n",
    "    t = t.get_text().split(\", \")\n",
    "    fields.append(t)\n",
    "\n",
    "fields"
   ]
  },
  {
   "cell_type": "markdown",
   "metadata": {},
   "source": [
    "## 주최사 크롤링"
   ]
  },
  {
   "cell_type": "code",
   "execution_count": 8,
   "metadata": {},
   "outputs": [
    {
     "name": "stdout",
     "output_type": "stream",
     "text": [
      "36\n"
     ]
    }
   ],
   "source": [
    "data = soup.select(\n",
    "    \"div > div > div > div > div.ms-list > ul.list > li > div.organ\")\n",
    "print(len(data))  # 주최사라는 이름의 데이터 때문에 1개 더많게 나옴"
   ]
  },
  {
   "cell_type": "code",
   "execution_count": 9,
   "metadata": {
    "code_folding": [],
    "scrolled": true
   },
   "outputs": [
    {
     "data": {
      "text/plain": [
       "['삼성생명',\n",
       " '경상북도콘텐츠진흥원',\n",
       " '한우자조금관리위원회',\n",
       " '경기도',\n",
       " '제주4.3평화재단',\n",
       " '식품의약품안전처, 식품안전정보원',\n",
       " '과학기술정보통신부, 서울특별시',\n",
       " '첨단정보통신융합산업기술원',\n",
       " '파주시',\n",
       " '스타필드',\n",
       " '정선군',\n",
       " '충청남도, 홍성군, 홍성군 문화특화사업단',\n",
       " '충청남도, 홍성군, 홍성군 문화특화사업단',\n",
       " '국가균형발전위원회',\n",
       " 'LG전자',\n",
       " '삼성전자',\n",
       " '김포시',\n",
       " '농림축산식품부',\n",
       " '목재문화진흥회',\n",
       " 'DMZ국제다큐멘터리영화제',\n",
       " '국가경영전략연구원',\n",
       " 'ABL생명',\n",
       " '기초과학연구원',\n",
       " '코리아타임스',\n",
       " '화성시',\n",
       " '과학기술정보통신부',\n",
       " '과학기술정보통신부',\n",
       " '과학기술정보통신부',\n",
       " '과학기술정보통신부, 국민권익위원회, 정보통신산업진흥원',\n",
       " '경상북도, 경상북도문화관광공사',\n",
       " \"일본군 '위안부' 역사관\",\n",
       " '국민연금연구원',\n",
       " '고양시청소년재단',\n",
       " '국제신문',\n",
       " '산림청']"
      ]
     },
     "execution_count": 9,
     "metadata": {},
     "output_type": "execute_result"
    }
   ],
   "source": [
    "organ = []\n",
    "for t in data[1:]:\n",
    "    a = t.get_text()\n",
    "    organ.append(a)\n",
    "\n",
    "organ"
   ]
  },
  {
   "cell_type": "code",
   "execution_count": null,
   "metadata": {},
   "outputs": [],
   "source": []
  }
 ],
 "metadata": {
  "kernelspec": {
   "display_name": "Python 3",
   "language": "python",
   "name": "python3"
  },
  "language_info": {
   "codemirror_mode": {
    "name": "ipython",
    "version": 3
   },
   "file_extension": ".py",
   "mimetype": "text/x-python",
   "name": "python",
   "nbconvert_exporter": "python",
   "pygments_lexer": "ipython3",
   "version": "3.6.10"
  },
  "toc": {
   "base_numbering": 1,
   "nav_menu": {},
   "number_sections": true,
   "sideBar": true,
   "skip_h1_title": false,
   "title_cell": "Table of Contents",
   "title_sidebar": "Contents",
   "toc_cell": false,
   "toc_position": {},
   "toc_section_display": true,
   "toc_window_display": false
  },
  "varInspector": {
   "cols": {
    "lenName": 16,
    "lenType": 16,
    "lenVar": 40
   },
   "kernels_config": {
    "python": {
     "delete_cmd_postfix": "",
     "delete_cmd_prefix": "del ",
     "library": "var_list.py",
     "varRefreshCmd": "print(var_dic_list())"
    },
    "r": {
     "delete_cmd_postfix": ") ",
     "delete_cmd_prefix": "rm(",
     "library": "var_list.r",
     "varRefreshCmd": "cat(var_dic_list()) "
    }
   },
   "types_to_exclude": [
    "module",
    "function",
    "builtin_function_or_method",
    "instance",
    "_Feature"
   ],
   "window_display": false
  }
 },
 "nbformat": 4,
 "nbformat_minor": 4
}
