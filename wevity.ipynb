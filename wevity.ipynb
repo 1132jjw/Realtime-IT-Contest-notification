{
 "cells": [
  {
   "cell_type": "code",
   "execution_count": 10,
   "metadata": {},
   "outputs": [],
   "source": [
    "import requests\n",
    "from bs4 import BeautifulSoup\n",
    "import os"
   ]
  },
  {
   "cell_type": "markdown",
   "metadata": {},
   "source": [
    "## 공모전 이름과 주소 크롤링 하기"
   ]
  },
  {
   "cell_type": "code",
   "execution_count": 11,
   "metadata": {},
   "outputs": [
    {
     "name": "stdout",
     "output_type": "stream",
     "text": [
      "크롤링된 공모전 수:  35\n"
     ]
    }
   ],
   "source": [
    "html = requests.get('https://www.wevity.com/?c=find').content\n",
    "#soup = BeautifulSoup(html, 'html.parser')\n",
    "soup = BeautifulSoup(html, 'lxml')\n",
    "data = soup.select(\"div > div > div > div > div.ms-list > ul.list > li > div.tit > a\")\n",
    "\n",
    "print(\"크롤링된 공모전 수: \", len(data))"
   ]
  },
  {
   "cell_type": "code",
   "execution_count": 12,
   "metadata": {
    "scrolled": true
   },
   "outputs": [
    {
     "name": "stdout",
     "output_type": "stream",
     "text": [
      "2020 ICT콕 AI 공모전 SPECIAL  https://www.wevity.com/?c=find&s=1&gbn=view&gp=1&ix=43544\n",
      "2020 SMART CITY 시민참여 아이디어 경진대회 SPECIAL  https://www.wevity.com/?c=find&s=1&gbn=view&gp=1&ix=43508\n",
      "파주시 2020 SNS 영상 공모전 SPECIAL  https://www.wevity.com/?c=find&s=1&gbn=view&gp=1&ix=43497\n",
      "스타필드리밍 유튜브 오디션 SPECIAL IDEA https://www.wevity.com/?c=find&s=1&gbn=view&gp=1&ix=43474\n",
      "2020 한국산업인력공단 월드잡플러스 서포터즈 7기 모집 SPECIAL  https://www.wevity.com/?c=find&s=1&gbn=view&gp=1&ix=43461\n",
      "보고싶다 정선아 단편 영화제 SPECIAL IDEA https://www.wevity.com/?c=find&s=1&gbn=view&gp=1&ix=43337\n",
      "2020 홍성군 문화·관광 유튜브 공모전 SPECIAL  https://www.wevity.com/?c=find&s=1&gbn=view&gp=1&ix=43329\n",
      "2020 홍성군 문화·관광 디카시 공모전 SPECIAL  https://www.wevity.com/?c=find&s=1&gbn=view&gp=1&ix=43328\n",
      "[국가균형발전위원회] 2020 국가균형발전 대국민 아이디어 공모전 SPECIAL  https://www.wevity.com/?c=find&s=1&gbn=view&gp=1&ix=43226\n",
      "LG 울트라기어 엠블럼 출시기념 팬아트 공모전 SPECIAL  https://www.wevity.com/?c=find&s=1&gbn=view&gp=1&ix=43215\n",
      "2020 삼성 모니터 디자인 공모전 SPECIAL  https://www.wevity.com/?c=find&s=1&gbn=view&gp=1&ix=43214\n",
      "2020 김포시 SNS 콘텐츠 공모전 SPECIAL  https://www.wevity.com/?c=find&s=1&gbn=view&gp=1&ix=43213\n",
      "2020 제 4회 식품외식산업 대학생 논문경진대회 SPECIAL  https://www.wevity.com/?c=find&s=1&gbn=view&gp=1&ix=43212\n",
      "2020 한목 디자인 공모전 (국산목재 활용 생활소품 디자인 공모전) SPECIAL  https://www.wevity.com/?c=find&s=1&gbn=view&gp=1&ix=43211\n",
      "삼성전기 유튜브 콘텐츠 아이디어 공모전 SPECIAL  https://www.wevity.com/?c=find&s=1&gbn=view&gp=1&ix=43094\n",
      "2020 제3회 38초 다큐 공모전 SPECIAL  https://www.wevity.com/?c=find&s=1&gbn=view&gp=1&ix=43087\n",
      "2020 제1회 건전재정 영상제 공모전 SPECIAL  https://www.wevity.com/?c=find&s=1&gbn=view&gp=1&ix=42939\n",
      "2020 BEF X UnivExpo Social by Social 아이디어 공모전 SPECIAL  https://www.wevity.com/?c=find&s=1&gbn=view&gp=1&ix=42938\n",
      "[외교부] 한ㆍ일(日ㆍ韓) 이웃의 이야기 공모전 SPECIAL  https://www.wevity.com/?c=find&s=1&gbn=view&gp=1&ix=42803\n",
      "제7회 청소년 평화·통일문화 경연대회 SPECIAL  https://www.wevity.com/?c=find&s=1&gbn=view&gp=1&ix=42696\n",
      "[기초과학연구원] IBS․기초과학 홍보콘텐츠 공모전 SPECIAL IDEA https://www.wevity.com/?c=find&s=1&gbn=view&gp=1&ix=42589\n",
      "제1회 코리아타임스 영어 프레젠테이션 대회 SPECIAL  https://www.wevity.com/?c=find&s=1&gbn=view&gp=1&ix=42511\n",
      "2020 화성호 전국 드론 영상·사진 공모전 SPECIAL  https://www.wevity.com/?c=find&s=1&gbn=view&gp=1&ix=42440\n",
      "2020 찾아라 생활 속 NTIS! NTIS 콘텐츠 공모전 SPECIAL  https://www.wevity.com/?c=find&s=1&gbn=view&gp=1&ix=42422\n",
      "2020 NTIS 정보활용경진대회 SPECIAL  https://www.wevity.com/?c=find&s=1&gbn=view&gp=1&ix=42421\n",
      "[과학기술정보통신부] 2020 융합연구 활성화 아이디어 공모전 SPECIAL  https://www.wevity.com/?c=find&s=1&gbn=view&gp=1&ix=42342\n",
      "2020년 국민 생활문제 해결을 위한 솔‧직 챌린지 SPECIAL  https://www.wevity.com/?c=find&s=1&gbn=view&gp=1&ix=42238\n",
      "2020 인생샷! 김칠구 사진 공모전 SPECIAL  https://www.wevity.com/?c=find&s=1&gbn=view&gp=1&ix=42029\n",
      "2020 한국주택금융공사 정책모기지 영상 및 체험수기 공모전 SPECIAL  https://www.wevity.com/?c=find&s=1&gbn=view&gp=1&ix=41751\n",
      "2020 일본군 위안부 피해자 명예회복을 위한 학술심포지엄 공모전 SPECIAL  https://www.wevity.com/?c=find&s=1&gbn=view&gp=1&ix=41496\n",
      "2020 전국 제2회 고창군 농업농촌 3분영화 공모전 SPECIAL  https://www.wevity.com/?c=find&s=1&gbn=view&gp=1&ix=41465\n",
      "제8회 국민연금 연구과제 대(對) 국민 공모전 SPECIAL  https://www.wevity.com/?c=find&s=1&gbn=view&gp=1&ix=39603\n",
      "2020년 영도 경제기반형 현장지원센터 홍보 서포터즈 모집 신규  https://www.wevity.com/?c=find&s=1&gbn=view&gp=1&ix=43623\n",
      "제23회 부천국제만화축제 온라인 서포터즈 모집 신규  https://www.wevity.com/?c=find&s=1&gbn=view&gp=1&ix=43622\n",
      "다락원 유아 어린이 서포터즈 3기 모집 신규  https://www.wevity.com/?c=find&s=1&gbn=view&gp=1&ix=43620\n"
     ]
    }
   ],
   "source": [
    "contest = {}\n",
    "\n",
    "for t in data:\n",
    "    name = t.get_text().replace(\"  \", \" \")\n",
    "    contest[name] = 'https://www.wevity.com/' + t['href']\n",
    "    \n",
    "for key, value in contest.items():\n",
    "    print(key, value)"
   ]
  },
  {
   "cell_type": "markdown",
   "metadata": {},
   "source": [
    "## 공모전 기간 크롤링"
   ]
  },
  {
   "cell_type": "code",
   "execution_count": 13,
   "metadata": {},
   "outputs": [
    {
     "name": "stdout",
     "output_type": "stream",
     "text": [
      "36\n"
     ]
    }
   ],
   "source": [
    "data = soup.select(\"div > div > div > div > div.ms-list > ul.list > li > div.day\")\n",
    "print(len(data)) # 현재현황이라는 이름의 데이터 때문에 1개 더많게 나옴"
   ]
  },
  {
   "cell_type": "code",
   "execution_count": 15,
   "metadata": {
    "scrolled": true
   },
   "outputs": [
    {
     "data": {
      "text/plain": [
       "['D-12접수중', 'D-14접수중', 'D-65접수예정', 'D-24접수중', 'D-2마감임박']"
      ]
     },
     "execution_count": 15,
     "metadata": {},
     "output_type": "execute_result"
    }
   ],
   "source": [
    "days = []\n",
    "for t in data[1:]:\n",
    "    day = t.get_text().replace(\"\\n\", \"\")\n",
    "    day = day.replace(\"\\t\", \"\")\n",
    "    day = day.replace(\"\\r\", \"\")\n",
    "    days.append(day)\n",
    "\n",
    "days[:5]"
   ]
  },
  {
   "cell_type": "markdown",
   "metadata": {},
   "source": [
    "## 공모전 분야 크롤링"
   ]
  },
  {
   "cell_type": "code",
   "execution_count": 18,
   "metadata": {},
   "outputs": [
    {
     "name": "stdout",
     "output_type": "stream",
     "text": [
      "35\n"
     ]
    }
   ],
   "source": [
    "data = soup.select(\"div > div > div > div > div.ms-list > ul.list > li > div.tit > div.sub-tit\")\n",
    "print(len(data))"
   ]
  },
  {
   "cell_type": "code",
   "execution_count": 19,
   "metadata": {
    "scrolled": true
   },
   "outputs": [
    {
     "data": {
      "text/plain": [
       "[['분야 : 기획/아이디어', '논문/리포트', '웹/모바일/플래시', '게임/소프트웨어', '과학/공학'],\n",
       " ['분야 : 기획/아이디어', '광고/마케팅', '논문/리포트', '과학/공학', '건축/건설/인테리어', '예체능/미술/음악'],\n",
       " ['분야 : 광고/마케팅', '영상/UCC/사진', '웹/모바일/플래시', '예체능/미술/음악'],\n",
       " ['분야 : 광고/마케팅', '영상/UCC/사진', '예체능/미술/음악', '대외활동/서포터즈'],\n",
       " ['분야 : 광고/마케팅', '예체능/미술/음악', '대외활동/서포터즈', '취업/창업', '해외']]"
      ]
     },
     "execution_count": 19,
     "metadata": {},
     "output_type": "execute_result"
    }
   ],
   "source": [
    "fields = []\n",
    "for t in data:\n",
    "    t = t.get_text().split(\", \")\n",
    "    fields.append(t)\n",
    "    \n",
    "fields[:5]"
   ]
  },
  {
   "cell_type": "markdown",
   "metadata": {},
   "source": [
    "## 주최사 크롤링"
   ]
  },
  {
   "cell_type": "code",
   "execution_count": 20,
   "metadata": {},
   "outputs": [
    {
     "name": "stdout",
     "output_type": "stream",
     "text": [
      "36\n"
     ]
    }
   ],
   "source": [
    "data = soup.select(\"div > div > div > div > div.ms-list > ul.list > li > div.organ\")\n",
    "print(len(data)) # 주최사라는 이름의 데이터 때문에 1개 더많게 나옴"
   ]
  },
  {
   "cell_type": "code",
   "execution_count": 21,
   "metadata": {
    "scrolled": true
   },
   "outputs": [
    {
     "data": {
      "text/plain": [
       "['과학기술정보통신부, 서울특별시', '첨단정보통신융합산업기술원', '파주시', '스타필드', '한국산업인력공단']"
      ]
     },
     "execution_count": 21,
     "metadata": {},
     "output_type": "execute_result"
    }
   ],
   "source": [
    "organ = []\n",
    "for t in data[1:]:\n",
    "    a = t.get_text()\n",
    "    organ.append(a)\n",
    "    \n",
    "organ[:5]"
   ]
  },
  {
   "cell_type": "code",
   "execution_count": null,
   "metadata": {},
   "outputs": [],
   "source": []
  }
 ],
 "metadata": {
  "kernelspec": {
   "display_name": "Python 3",
   "language": "python",
   "name": "python3"
  },
  "language_info": {
   "codemirror_mode": {
    "name": "ipython",
    "version": 3
   },
   "file_extension": ".py",
   "mimetype": "text/x-python",
   "name": "python",
   "nbconvert_exporter": "python",
   "pygments_lexer": "ipython3",
   "version": "3.7.3"
  }
 },
 "nbformat": 4,
 "nbformat_minor": 4
}
