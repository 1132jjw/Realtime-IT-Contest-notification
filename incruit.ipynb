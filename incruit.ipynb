{
 "cells": [
  {
   "cell_type": "code",
   "execution_count": 1,
   "metadata": {},
   "outputs": [],
   "source": [
    "import requests\n",
    "from bs4 import BeautifulSoup\n",
    "import os"
   ]
  },
  {
   "cell_type": "markdown",
   "metadata": {},
   "source": [
    "## 공모전 이름과 주소 크롤링 하기"
   ]
  },
  {
   "cell_type": "code",
   "execution_count": 2,
   "metadata": {},
   "outputs": [
    {
     "name": "stdout",
     "output_type": "stream",
     "text": [
      "크롤링된 공모전 수:  20\n"
     ]
    }
   ],
   "source": [
    "html = requests.get('http://gongmo.incruit.com/list/gongmolist.asp').content\n",
    "soup = BeautifulSoup(html, 'lxml')\n",
    "data = soup.select(\n",
    "    \"div#PageFrame > div#PageContent > table > tr > td > div > div > div > div > table > tbody > tr > td > ul > a\"\n",
    ")\n",
    "\n",
    "print(\"크롤링된 공모전 수: \", len(data))"
   ]
  },
  {
   "cell_type": "code",
   "execution_count": 3,
   "metadata": {
    "code_folding": [],
    "scrolled": true
   },
   "outputs": [
    {
     "name": "stdout",
     "output_type": "stream",
     "text": [
      "교보교육재단 2020년 제4회 책갈피 독서편지쓰기 공모전 http://gongmo.incruit.com/info/gongmolistinfo.asp?contestno=202008050013\n",
      "2020년 실전창업교육 3기 교육생 모집(~8/21) http://gongmo.incruit.com/info/gongmolistinfo.asp?contestno=202008050011\n",
      "서울특별시 어린이보호구역 아이디어 공모전 http://gongmo.incruit.com/info/gongmolistinfo.asp?contestno=202008050010\n",
      "[제7회 가톨릭영화제] 자원활동가 카프지앵8기 모집 http://gongmo.incruit.com/info/gongmolistinfo.asp?contestno=202008050008\n",
      "2020년 재도전 성공패키지 「대학생 마케팅 서포터즈」 모집.. http://gongmo.incruit.com/info/gongmolistinfo.asp?contestno=202008050007\n",
      "2021 전남국제수묵비엔날레 UCC 공모전 http://gongmo.incruit.com/info/gongmolistinfo.asp?contestno=202008050006\n",
      "2020년 항공우주기술 기반 예비창업자 지원 사업, STAR.. http://gongmo.incruit.com/info/gongmolistinfo.asp?contestno=202008050005\n",
      "제5회 담수생물 사진 공모전 http://gongmo.incruit.com/info/gongmolistinfo.asp?contestno=202008050001\n",
      "제2회  http://gongmo.incruit.com/info/gongmolistinfo.asp?contestno=202008050000\n",
      "어번캔버스 청년벤치 공모전 http://gongmo.incruit.com/info/gongmolistinfo.asp?contestno=202008040011\n",
      "[산림청] 2020 우리 나무 한목 사진 공모전 http://gongmo.incruit.com/info/gongmolistinfo.asp?contestno=202008040010\n",
      "교정본부 호송차량 외관 랩핑 디자인 http://gongmo.incruit.com/info/gongmolistinfo.asp?contestno=202008040009\n",
      "삼척시 내일로 서포터즈 http://gongmo.incruit.com/info/gongmolistinfo.asp?contestno=202008040008\n",
      "소셜임팩트 with 이노폴리스 크라우드펀딩 지원사업 http://gongmo.incruit.com/info/gongmolistinfo.asp?contestno=202008040007\n",
      "Ericsson Innovation Awards 2020​ - Reclaim th.. http://gongmo.incruit.com/info/gongmolistinfo.asp?contestno=202008040006\n",
      "VISITSEOUL TV와 함께하는 랜선여행 페스티벌,.. http://gongmo.incruit.com/info/gongmolistinfo.asp?contestno=202008040005\n",
      " 2020 국립낙동강생물자원관 어린이 그림그리기 대회  http://gongmo.incruit.com/info/gongmolistinfo.asp?contestno=202008040004\n",
      "2020 우리 농산물 과채류 매력 알리기 콘텐츠 공모전 http://gongmo.incruit.com/info/gongmolistinfo.asp?contestno=202008040003\n",
      "제3회 어도 사진 공모전  http://gongmo.incruit.com/info/gongmolistinfo.asp?contestno=202008040002\n"
     ]
    }
   ],
   "source": [
    "contest = {}\n",
    "\n",
    "for t in data:\n",
    "    name = t.get_text().replace(\"  \", \" \")\n",
    "    contest[name] = t['href']\n",
    "\n",
    "for key, value in contest.items():\n",
    "    print(key, value)"
   ]
  },
  {
   "cell_type": "markdown",
   "metadata": {},
   "source": [
    "## 공모전 기간 크롤링"
   ]
  },
  {
   "cell_type": "code",
   "execution_count": 4,
   "metadata": {},
   "outputs": [
    {
     "name": "stdout",
     "output_type": "stream",
     "text": [
      "20\n"
     ]
    }
   ],
   "source": [
    "data = soup.select(\n",
    "    \"div#PageFrame > div#PageContent > table > tr > td > div > div > div > div > table > tbody > tr > td > p\"\n",
    ")\n",
    "print(len(data))"
   ]
  },
  {
   "cell_type": "code",
   "execution_count": 5,
   "metadata": {
    "scrolled": true
   },
   "outputs": [
    {
     "data": {
      "text/plain": [
       "['D-53',\n",
       " 'D-16',\n",
       " 'D-16',\n",
       " 'D-14',\n",
       " 'D-56',\n",
       " 'D-16',\n",
       " 'D-9',\n",
       " 'D-21',\n",
       " 'D-30',\n",
       " 'D-86',\n",
       " 'D-36',\n",
       " 'D-18',\n",
       " 'D-51',\n",
       " 'D-26',\n",
       " 'D-19',\n",
       " 'D-56',\n",
       " 'D-47',\n",
       " 'D-26',\n",
       " 'D-74',\n",
       " 'D-64']"
      ]
     },
     "execution_count": 5,
     "metadata": {},
     "output_type": "execute_result"
    }
   ],
   "source": [
    "days = []\n",
    "for t in data:\n",
    "    day = t.get_text()\n",
    "    days.append(day)\n",
    "\n",
    "days"
   ]
  },
  {
   "cell_type": "markdown",
   "metadata": {},
   "source": [
    "## 공모전 분야 크롤링 X -> 안 나와 있음."
   ]
  },
  {
   "cell_type": "code",
   "execution_count": 6,
   "metadata": {},
   "outputs": [],
   "source": [
    "# data = soup.select(\n",
    "#     \"div#PageFrame > div#PageContent > table > tr > td > div > div > div > div > table > tbody > tr > td > p\"\n",
    "# )\n",
    "# print(len(data))"
   ]
  },
  {
   "cell_type": "code",
   "execution_count": 7,
   "metadata": {
    "scrolled": true
   },
   "outputs": [],
   "source": [
    "# fields = []\n",
    "# for t in data:\n",
    "#     t = t.get_text().split(\", \")\n",
    "#     fields.append(t)\n",
    "\n",
    "# fields"
   ]
  },
  {
   "cell_type": "markdown",
   "metadata": {},
   "source": [
    "## 주최사 크롤링"
   ]
  },
  {
   "cell_type": "code",
   "execution_count": 8,
   "metadata": {},
   "outputs": [
    {
     "name": "stdout",
     "output_type": "stream",
     "text": [
      "20\n"
     ]
    }
   ],
   "source": [
    "data = soup.select(\n",
    "    \"div#PageFrame > div#PageContent > table > tr > td > div > div > div > div > table > tbody > tr > td.company\"\n",
    ")\n",
    "print(len(data))"
   ]
  },
  {
   "cell_type": "code",
   "execution_count": 9,
   "metadata": {
    "code_folding": [],
    "scrolled": true
   },
   "outputs": [
    {
     "data": {
      "text/plain": [
       "['교보교육재단',\n",
       " '중소벤처기업부',\n",
       " '중소벤처기업부',\n",
       " '아동안전위원회',\n",
       " '가톨릭영화인협회/..',\n",
       " '강원대학교 강원창..',\n",
       " '전라남도',\n",
       " '한국항공우주연구원',\n",
       " '국립낙동강 생물자..',\n",
       " '남양주시',\n",
       " '서초구청',\n",
       " '산림청',\n",
       " '법무부',\n",
       " '삼척시청',\n",
       " '연구개발특구진흥재단',\n",
       " 'Ericsson',\n",
       " '서울관광재단',\n",
       " '국립낙동강생물자원관',\n",
       " '농협경제지주',\n",
       " '해양수산부']"
      ]
     },
     "execution_count": 9,
     "metadata": {},
     "output_type": "execute_result"
    }
   ],
   "source": [
    "organ = []\n",
    "for t in data:\n",
    "    a = t.get_text().replace('\\t', '')\n",
    "    a = a.replace('\\r', '')\n",
    "    a = a.replace('\\n', '')    \n",
    "    organ.append(a)\n",
    "\n",
    "organ"
   ]
  },
  {
   "cell_type": "code",
   "execution_count": null,
   "metadata": {},
   "outputs": [],
   "source": []
  }
 ],
 "metadata": {
  "kernelspec": {
   "display_name": "Python 3",
   "language": "python",
   "name": "python3"
  },
  "language_info": {
   "codemirror_mode": {
    "name": "ipython",
    "version": 3
   },
   "file_extension": ".py",
   "mimetype": "text/x-python",
   "name": "python",
   "nbconvert_exporter": "python",
   "pygments_lexer": "ipython3",
   "version": "3.6.10"
  },
  "toc": {
   "base_numbering": 1,
   "nav_menu": {},
   "number_sections": true,
   "sideBar": true,
   "skip_h1_title": false,
   "title_cell": "Table of Contents",
   "title_sidebar": "Contents",
   "toc_cell": false,
   "toc_position": {},
   "toc_section_display": true,
   "toc_window_display": false
  },
  "varInspector": {
   "cols": {
    "lenName": 16,
    "lenType": 16,
    "lenVar": 40
   },
   "kernels_config": {
    "python": {
     "delete_cmd_postfix": "",
     "delete_cmd_prefix": "del ",
     "library": "var_list.py",
     "varRefreshCmd": "print(var_dic_list())"
    },
    "r": {
     "delete_cmd_postfix": ") ",
     "delete_cmd_prefix": "rm(",
     "library": "var_list.r",
     "varRefreshCmd": "cat(var_dic_list()) "
    }
   },
   "types_to_exclude": [
    "module",
    "function",
    "builtin_function_or_method",
    "instance",
    "_Feature"
   ],
   "window_display": false
  }
 },
 "nbformat": 4,
 "nbformat_minor": 4
}
