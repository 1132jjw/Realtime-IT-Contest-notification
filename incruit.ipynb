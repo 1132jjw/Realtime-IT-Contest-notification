{
 "cells": [
  {
   "cell_type": "code",
   "execution_count": 5,
   "metadata": {},
   "outputs": [],
   "source": [
    "import requests\n",
    "from bs4 import BeautifulSoup\n",
    "import os\n",
    "import json\n",
    "\n",
    "\n",
    "class Incruit:\n",
    "    def __init__(self):\n",
    "        self.base_url = 'http://gongmo.incruit.com/list/gongmolist.asp'\n",
    "        self.categories = ['?ct=1&category=10', '?ct=1&category=11']\n",
    "        self.contests = dict()\n",
    "\n",
    "    def crawling(self):\n",
    "        \"\"\" 카테고리별 공모전 리스트 크롤링 \"\"\"\n",
    "        print(\"===== [Incruit]  Start Crawling data... =====\")\n",
    "        for category in self.categories:\n",
    "            page = 1\n",
    "            while 42:\n",
    "                req = requests.get(self.base_url + category+\"&page=\"+str(page))\n",
    "                soup = BeautifulSoup(req.content, \"html.parser\")\n",
    "                data_list = soup.find(id='tbdyGmScrap').find_all('a')\n",
    "                if len(data_list) == 0: \n",
    "                    break\n",
    "                self.scraping(data_list)\n",
    "                page += 1\n",
    "        print(\"===== [Incruit] Finish Crawling data... =====\")\n",
    "\n",
    "    def scraping(self, data_list):\n",
    "        \"\"\"\n",
    "        공모전 세부 정보 크롤링 & dict 형태로 데이터 저장\n",
    "        공모전 이름(title): [기간(host),\n",
    "                          분류(classify) - 과학/공학, 소프트웨어 항목만,\n",
    "                          주최자(host),\n",
    "                          사이트링크(link)]\n",
    "        \"\"\"\n",
    "        for data in data_list:\n",
    "            req = requests.get(data.get('href'))\n",
    "            soup = BeautifulSoup(req.content, \"html.parser\")\n",
    "            tmp = soup.find(class_='tBrd1Gray').find_all('td')\n",
    "\n",
    "            title = soup.find(class_='job_new_top_title').get_text()\n",
    "            term = tmp[3].get_text()\n",
    "            classify = tmp[0].get_text().replace(\"<br/>\", \",\")\n",
    "            host = tmp[1].get_text()\n",
    "            link = tmp[4].find('a').get('href').replace('\\t', '')\n",
    "            self.contests[title] = [term, classify, host, link]\n",
    "\n",
    "    def save(self):\n",
    "#         base_dir = os.path.dirname(os.path.abspath(__file__))\n",
    "#         with open(os.path.join(base_dir, 'incruit.json'), 'w+', encoding='utf-8') as json_file:\n",
    "#             json.dump(self.contests, json_file, ensure_ascii=False, indent='\\t')\n",
    "        file_path = './incruit.json'\n",
    "        with open(file_path, 'w', -1, \"utf-8\") as json_file:\n",
    "            json.dump(self.contests, json_file, ensure_ascii=False, indent='\\t')            \n",
    "        print(\"===== [Incruit] Save data... =====\\n\")\n",
    "\n",
    "    def check_result(self):\n",
    "        for key, value in self.contests.items():\n",
    "            print(key, \":\", value)"
   ]
  },
  {
   "cell_type": "code",
   "execution_count": 6,
   "metadata": {},
   "outputs": [
    {
     "name": "stdout",
     "output_type": "stream",
     "text": [
      "===== [Incruit]  Start Crawling data... =====\n",
      "===== [Incruit] Finish Crawling data... =====\n"
     ]
    }
   ],
   "source": [
    "inc = Incruit()\n",
    "inc.crawling()"
   ]
  },
  {
   "cell_type": "code",
   "execution_count": 7,
   "metadata": {},
   "outputs": [
    {
     "data": {
      "text/plain": [
       "14"
      ]
     },
     "execution_count": 7,
     "metadata": {},
     "output_type": "execute_result"
    }
   ],
   "source": [
    "len(inc.contests)"
   ]
  },
  {
   "cell_type": "code",
   "execution_count": 8,
   "metadata": {},
   "outputs": [
    {
     "name": "stdout",
     "output_type": "stream",
     "text": [
      "===== [Incruit] Save data... =====\n",
      "\n"
     ]
    }
   ],
   "source": [
    "inc.save()"
   ]
  },
  {
   "cell_type": "code",
   "execution_count": 9,
   "metadata": {},
   "outputs": [
    {
     "name": "stdout",
     "output_type": "stream",
     "text": [
      "2020 전북 기능성게임 아카데미[기능성게임제작대회] : ['2020.08.11 ~ 2020.09.04', '게임/소프트웨어', '(재)전라북도문화콘텐츠산업진흥원', 'http://www.jbga.co.kr/']\n",
      "브랜디 코딩대회 [코드네임B_] : ['2020.08.08 ~ 2020.08.26', '게임/소프트웨어과학/공학', '브랜디', 'https://www.wanted.co.kr/events/codename_b']\n",
      "Fintech AI 온라인 해커톤, 최대 1억원 창업 투자 지원 : ['2020.07.27 ~ 2020.08.16', '기획/아이디어게임/소프트웨어과학/공학', '앵커밸류', 'http://an-va.com']\n",
      "2020년 디지털콘텐츠 테스트 실증 운영지원사업 기업 모집 : ['2020.06.26 ~ 2020.09.30', '게임/소프트웨어', '정보통신산업진흥원', 'http://www.dccenter.kr/']\n",
      "넥슨컴퓨터박물관 가상현실 콘텐츠 공모전 <2020 NCM OPEN CALL V Reality> : ['2020.07.01 ~ 2020.08.31', '기획/아이디어디자인영상/사진/UCC게임/소프트웨어해외', '넥슨컴퓨터박물관', 'https://nexoncomputermuseum.org/?mcode=0706']\n",
      "2020년 항공우주기술 기반 예비창업자 지원 사업, STAR Exploration : ['2020.07.27 ~ 2020.08.26', '기획/아이디어과학/공학', '한국항공우주연구원', 'http://star-exploration.com']\n",
      "Ericsson Innovation Awards 2020​ - Reclaim the future : ['2020.08.03 ~ 2020.09.30', '기획/아이디어과학/공학', 'Ericsson', 'https://www.ericsson.com/eia2020']\n",
      "[과학기술정보통신부] 2020 마이데이터 BI 기획개발 공모전 (~08/17) : ['2020.07.16 ~ 2020.08.17', '과학/공학', '과학기술정보통신부', 'https://www.kdata.or.kr/board/notice_01_view.html?dbnum=2221']\n",
      "2020 SMART CITY 시민참여 아이디어 경진대회 : ['2020.07.20 ~ 2020.08.14', '기획/아이디어광고/마케팅과학/공학건설/건축/인테리어대외활동', '첨단정보통신융합산업기술원', 'http://www.smartcityidea.or.kr']\n",
      "국립과천과학관 2020 온택트 해피사이언스축제 1탄!  \"유튜버 긱블과 함께하는 방구석 과학자\" : ['2020.07.21 ~ 2020.08.25', '영상/사진/UCC과학/공학', '국립과천과학관', 'http://www.sciencecenter.go.kr/scipia']\n",
      "교통빅데이터 활용 공모전 : ['2020.06.01 ~ 2020.08.16', '기획/아이디어과학/공학', '인공지능기반의 미래교통운영 기반기술 개발 및 활용', 'http://www.rndcontest.org']\n",
      "2020년 제9회 고속도로 공공디자인 공모전 공모요강 : ['2020.07.03 ~ 2020.09.13', '디자인과학/공학건설/건축/인테리어', '한국도로공사', 'http://www.ex-contest.co.kr/']\n",
      "제5회 전기사랑 스피치대회 : ['2020.06.01 ~ 2020.09.11', '기획/아이디어과학/공학', '(주)한국전기신문사', 'http://sp.electimes.com']\n",
      "제19회 전파분야 대학(원)생 논문 공모 (전파정책 분야는 일반인 응모 가능) : ['2020.06.15 ~ 2020.08.13', '학술/논문과학/공학', '한국방송통신전파진흥원, 한국전자파학회', 'https://www.kiees.or.kr/html/?pmode=BBBS0012700001&page=1&smode=view&seq=2159&searchValue=&searchTitle=strTitle']\n"
     ]
    }
   ],
   "source": [
    "inc.check_result()"
   ]
  },
  {
   "cell_type": "code",
   "execution_count": null,
   "metadata": {},
   "outputs": [],
   "source": []
  }
 ],
 "metadata": {
  "kernelspec": {
   "display_name": "Python 3",
   "language": "python",
   "name": "python3"
  },
  "language_info": {
   "codemirror_mode": {
    "name": "ipython",
    "version": 3
   },
   "file_extension": ".py",
   "mimetype": "text/x-python",
   "name": "python",
   "nbconvert_exporter": "python",
   "pygments_lexer": "ipython3",
   "version": "3.7.3"
  }
 },
 "nbformat": 4,
 "nbformat_minor": 4
}
