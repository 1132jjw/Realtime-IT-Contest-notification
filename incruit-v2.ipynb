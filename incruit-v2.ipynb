{
 "cells": [
  {
   "cell_type": "code",
   "execution_count": 113,
   "metadata": {},
   "outputs": [],
   "source": [
    "import requests\n",
    "from bs4 import BeautifulSoup\n",
    "import os"
   ]
  },
  {
   "cell_type": "code",
   "execution_count": 114,
   "metadata": {},
   "outputs": [],
   "source": [
    "class Incruit:\n",
    "    def __init__(self):\n",
    "        self.base_url = \"http://gongmo.incruit.com/list/gongmolist.asp?page=\"\n",
    "        \n",
    "    def parsing(self, url, select_direction):\n",
    "        html = requests.get(url).content\n",
    "        soup = BeautifulSoup(html, 'lxml')\n",
    "        data = soup.select(select_direction)\n",
    "\n",
    "        return data\n",
    "    \n",
    "    def parsing_company(self, url):\n",
    "        data_list = []\n",
    "        \n",
    "        \n",
    "        return data_list\n",
    "    \n",
    "    def parsing_name_href(self, base_url):\n",
    "        # 이름\n",
    "        select = \"div#PageFrame > div#PageContent > table > tr > td > div > div > div > div > table > tbody > tr > td > ul > a\" \n",
    "        # 첫 번째 페이지부터 반복문 시작\n",
    "        page = 1\n",
    "        name_list = []\n",
    "        href_list = []\n",
    "        while 42:\n",
    "            data = parsing(base_url+str(page), select)\n",
    "            # 들어온 데이터가 없으면 최대 페이지를 넘어간 것 -> break\n",
    "            if len(data) == 0: \n",
    "                break\n",
    "            for t in data:\n",
    "                name = t.get_text().replace(\"  \", \" \")\n",
    "                name_list.append(name)\n",
    "                href_list.append(t['href'])\n",
    "            page += 1\n",
    "            \n",
    "        return name_list, href_list\n",
    "    \n",
    "    def parsing_term(self, base_url):\n",
    "        # 주최자\n",
    "        select = \"div#PageFrame > div#PageContent > table > tr > td > div > div > div > div > table > tbody > tr > td > p\"\n",
    "        term_list = []\n",
    "        # 첫 번째 페이지부터 반복문 시작\n",
    "        page = 1\n",
    "        while 42:\n",
    "            data = parsing(base_url+str(page), select)\n",
    "            # 들어온 데이터가 없으면 최대 페이지를 넘어간 것 -> break\n",
    "            if len(data) == 0: \n",
    "                break\n",
    "            for t in data:\n",
    "                day = t.get_text()\n",
    "                term_list.append(day)\n",
    "            page += 1\n",
    "            \n",
    "        return term_list\n",
    "    \n",
    "    def parsing_organ(self, base_url):\n",
    "        # 주최자\n",
    "        select = \"div#PageFrame > div#PageContent > table > tr > td > div > div > div > div > table > tbody > tr > td.company\"\n",
    "        organ_list = []\n",
    "        # 첫 번째 페이지부터 반복문 시작\n",
    "        page = 1\n",
    "        while 42:\n",
    "            data = parsing(base_url+str(page), select)\n",
    "            # 들어온 데이터가 없으면 최대 페이지를 넘어간 것 -> break\n",
    "            if len(data) == 0: \n",
    "                break\n",
    "            for t in data:\n",
    "                a = t.get_text().replace('\\t', '')\n",
    "                a = a.replace('\\r', '')\n",
    "                a = a.replace('\\n', '')    \n",
    "                organ_list.append(a)\n",
    "            page += 1\n",
    "            \n",
    "        return organ_list\n",
    "        \n",
    "    def parsing_all(self, base_url):\n",
    "        # 이름, 기간, 주최자\n",
    "        select_list = [\"div#PageFrame > div#PageContent > table > tr > td > div > div > div > div > table > tbody > tr > td > ul > a\", \n",
    "                      \"div#PageFrame > div#PageContent > table > tr > td > div > div > div > div > table > tbody > tr > td > p\",\n",
    "                      \"div#PageFrame > div#PageContent > table > tr > td > div > div > div > div > table > tbody > tr > td.company\"]\n",
    "        all_data = []\n",
    "        for select in select_list:\n",
    "            data_list = []\n",
    "            # 첫 번째 페이지 공모전 이름 크롤링\n",
    "            data_list = parsing(base_url+\"1\", select)\n",
    "            # 두 번째 페이지부터 반복문 시작\n",
    "            page = 2\n",
    "            while 42:\n",
    "                data = parsing(base_url+str(page), select)\n",
    "                # 들어온 데이터가 없으면 최대 페이지를 넘어간 것 -> break\n",
    "                if len(data) == 0: \n",
    "                    break\n",
    "                data_list += data\n",
    "                page += 1\n",
    "            all_data.append(data_list)\n",
    "            \n",
    "        return all_data\n",
    "    \n",
    "    "
   ]
  },
  {
   "cell_type": "code",
   "execution_count": 120,
   "metadata": {},
   "outputs": [],
   "source": [
    "incruit = Incruit()\n",
    "\n",
    "name, href = incruit.parsing_name_href(incruit.base_url)\n",
    "term = incruit.parsing_term(incruit.base_url)\n",
    "organ = incruit.parsing_organ(incruit.base_url)\n",
    "\n",
    "# 이름, 주소, 기간, 주최자\n",
    "all_data = {\"name\": name, \"href\": href, \"term\": term, \"organ\": organ}"
   ]
  },
  {
   "cell_type": "code",
   "execution_count": 123,
   "metadata": {},
   "outputs": [
    {
     "name": "stdout",
     "output_type": "stream",
     "text": [
      "name ['수돗물 아이디어실현 공모전!!', '2020 삼성금융영업사관학교', '2020 K-pop 뮤지션 콘테스트 제 4회 All Star 뮤지션 페..', '퍼플스 대학생 서포터즈 1기 모집', '2020 평화사랑 공모전'] \n",
      "\n",
      "href ['http://gongmo.incruit.com/info/gongmolistinfo.asp?contestno=202008090001', 'http://gongmo.incruit.com/info/gongmolistinfo.asp?contestno=202008090000', 'http://gongmo.incruit.com/info/gongmolistinfo.asp?contestno=202008070002', 'http://gongmo.incruit.com/info/gongmolistinfo.asp?contestno=202008070001', 'http://gongmo.incruit.com/info/gongmolistinfo.asp?contestno=202008070000'] \n",
      "\n",
      "term ['D-5', 'D-8', 'D-22', 'D-15', 'D-41'] \n",
      "\n",
      "organ ['한국수자원공사-수..', '삼성생명', '한국음악실연자연합회', '퍼플스㈜', '경찰청'] \n",
      "\n"
     ]
    }
   ],
   "source": [
    "for key, value in all_data.items():\n",
    "    print(key, value[:5], '\\n')"
   ]
  },
  {
   "cell_type": "markdown",
   "metadata": {},
   "source": [
    "## 공모전 분야 크롤링 X -> 안 나와 있음."
   ]
  },
  {
   "cell_type": "code",
   "execution_count": 115,
   "metadata": {},
   "outputs": [],
   "source": [
    "## 아직 구현 못했습니다ㅜㅜ"
   ]
  },
  {
   "cell_type": "code",
   "execution_count": 6,
   "metadata": {},
   "outputs": [],
   "source": [
    "# data = soup.select(\n",
    "#     \"div#PageFrame > div#PageContent > table > tr > td > div > div > div > div > table > tbody > tr > td > p\"\n",
    "# )\n",
    "# print(len(data))"
   ]
  },
  {
   "cell_type": "code",
   "execution_count": 7,
   "metadata": {
    "scrolled": true
   },
   "outputs": [],
   "source": [
    "# fields = []\n",
    "# for t in data:\n",
    "#     t = t.get_text().split(\", \")\n",
    "#     fields.append(t)\n",
    "\n",
    "# fields"
   ]
  },
  {
   "cell_type": "code",
   "execution_count": null,
   "metadata": {},
   "outputs": [],
   "source": []
  }
 ],
 "metadata": {
  "kernelspec": {
   "display_name": "Python 3",
   "language": "python",
   "name": "python3"
  },
  "language_info": {
   "codemirror_mode": {
    "name": "ipython",
    "version": 3
   },
   "file_extension": ".py",
   "mimetype": "text/x-python",
   "name": "python",
   "nbconvert_exporter": "python",
   "pygments_lexer": "ipython3",
   "version": "3.7.3"
  },
  "toc": {
   "base_numbering": 1,
   "nav_menu": {},
   "number_sections": true,
   "sideBar": true,
   "skip_h1_title": false,
   "title_cell": "Table of Contents",
   "title_sidebar": "Contents",
   "toc_cell": false,
   "toc_position": {},
   "toc_section_display": true,
   "toc_window_display": false
  },
  "varInspector": {
   "cols": {
    "lenName": 16,
    "lenType": 16,
    "lenVar": 40
   },
   "kernels_config": {
    "python": {
     "delete_cmd_postfix": "",
     "delete_cmd_prefix": "del ",
     "library": "var_list.py",
     "varRefreshCmd": "print(var_dic_list())"
    },
    "r": {
     "delete_cmd_postfix": ") ",
     "delete_cmd_prefix": "rm(",
     "library": "var_list.r",
     "varRefreshCmd": "cat(var_dic_list()) "
    }
   },
   "types_to_exclude": [
    "module",
    "function",
    "builtin_function_or_method",
    "instance",
    "_Feature"
   ],
   "window_display": false
  }
 },
 "nbformat": 4,
 "nbformat_minor": 4
}
