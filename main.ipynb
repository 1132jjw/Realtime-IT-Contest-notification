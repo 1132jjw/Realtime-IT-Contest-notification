{
 "cells": [
  {
   "cell_type": "code",
   "execution_count": 12,
   "metadata": {},
   "outputs": [],
   "source": [
    "from incruit import Incruit\n",
    "from thinkgood import Thinkgood\n",
    "from kmp import KMP\n",
    "import os\n",
    "import json\n",
    "# from datetime import datetime\n",
    "# from pytz import timezone"
   ]
  },
  {
   "cell_type": "code",
   "execution_count": 13,
   "metadata": {},
   "outputs": [
    {
     "ename": "ModuleNotFoundError",
     "evalue": "No module named 'github_utils'",
     "output_type": "error",
     "traceback": [
      "\u001b[1;31m---------------------------------------------------------------------------\u001b[0m",
      "\u001b[1;31mModuleNotFoundError\u001b[0m                       Traceback (most recent call last)",
      "\u001b[1;32m<ipython-input-13-8ac8be05128f>\u001b[0m in \u001b[0;36m<module>\u001b[1;34m\u001b[0m\n\u001b[1;32m----> 1\u001b[1;33m \u001b[1;32mfrom\u001b[0m \u001b[0mgithub_utils\u001b[0m \u001b[1;32mimport\u001b[0m \u001b[0mget_github_repo\u001b[0m\u001b[1;33m,\u001b[0m \u001b[0mupload_github_issue\u001b[0m\u001b[1;33m\u001b[0m\u001b[1;33m\u001b[0m\u001b[0m\n\u001b[0m",
      "\u001b[1;31mModuleNotFoundError\u001b[0m: No module named 'github_utils'"
     ]
    }
   ],
   "source": [
    "from github_utils import get_github_repo, upload_github_issue"
   ]
  },
  {
   "cell_type": "code",
   "execution_count": null,
   "metadata": {},
   "outputs": [],
   "source": [
    "def save(base_dir, contests):\n",
    "    with open(os.path.join(base_dir, 'contests.json'), 'w+', encoding='utf-8') as json_file:\n",
    "        json.dump(contests, json_file, ensure_ascii=False, indent='\\t')\n",
    "    print(\"===== Finish saving data... =====\")\n",
    "\n",
    "\n",
    "if __name__ == \"__main__\":\n",
    "    base_dir = os.path.dirname(os.path.abspath(__file__))\n",
    "\n",
    "    # \"\"\" init setting \"\"\"\n",
    "    # incruit = Incruit()\n",
    "    # thinkgood = Thinkgood()\n",
    "    #\n",
    "    # \"\"\" crawling  & save contests data\"\"\"\n",
    "    # incruit.crawling(), incruit.save()\n",
    "    # thinkgood.crawling(), thinkgood.save()\n",
    "\n",
    "    \"\"\" using [KMP Algorithm]\"\"\"\n",
    "    with open(base_dir + \"/incruit.json\", encoding='utf-8', errors='ignore') as json_data:\n",
    "        contests_incruit = json.load(json_data, strict=False)\n",
    "    with open(base_dir + \"/thinkgood.json\", encoding='utf-8', errors='ignore') as json_data:\n",
    "        contests_thinkgood = json.load(json_data, strict=False)\n",
    "    kmp = KMP(contests_incruit, contests_thinkgood)\n",
    "    kmp.check()\n",
    "\n",
    "    \"\"\" save contest lists & using [KMP Algorithm] \"\"\"\n",
    "    save(base_dir, kmp.contests)\n",
    "\n",
    "    \"\"\" upload info to Issue \"\"\"\n",
    "    access_token = '76761b67fdbc31328943418649af46ada44c8e32'\n",
    "    repository_name = \"test\"\n",
    "\n",
    "    # seoul_timezone = timezone('Asia/Seoul')\n",
    "    # today = datetime.now(seoul_timezone)\n",
    "    # today_data = 'sssss'\n",
    "\n",
    "    issue_title = f\"test입니다\" # f\"test입니다({today_data})\"\n",
    "    upload_contents = 'testtt'\n",
    "    repo = get_github_repo(access_token, repository_name)\n",
    "    upload_github_issue(repo, issue_title, upload_contents)\n",
    "    print(\"업로드 완료!\")"
   ]
  }
 ],
 "metadata": {
  "kernelspec": {
   "display_name": "Python 3",
   "language": "python",
   "name": "python3"
  },
  "language_info": {
   "codemirror_mode": {
    "name": "ipython",
    "version": 3
   },
   "file_extension": ".py",
   "mimetype": "text/x-python",
   "name": "python",
   "nbconvert_exporter": "python",
   "pygments_lexer": "ipython3",
   "version": "3.7.3"
  }
 },
 "nbformat": 4,
 "nbformat_minor": 4
}
