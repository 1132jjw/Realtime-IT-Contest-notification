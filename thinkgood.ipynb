{
 "cells": [
  {
   "cell_type": "code",
   "execution_count": 45,
   "metadata": {},
   "outputs": [],
   "source": [
    "import requests\n",
    "from bs4 import BeautifulSoup\n",
    "import os\n",
    "import json\n",
    "from tqdm import tqdm\n",
    "\n",
    "class Thinkgood:\n",
    "    def __init__(self):\n",
    "        self.base_url = 'https://www.thinkcontest.com/Contest'\n",
    "        self.categories = ['/CateField.html?c=11', '/CateField.html?c=12']\n",
    "        self.categories_state = ['&s=hurry', '&s=ing', '&s=soon']\n",
    "        self.select = 'div#wrapper > div#trunk > div#main > div.container >' \\\n",
    "                      'div.body.contest-cate > div.all-contest > table.type-2.mg-t-5.contest-table >' \\\n",
    "                      'tbody > tr > td.txt-left > div.contest-title > a '\n",
    "        self.contests = dict()\n",
    "\n",
    "    def crawling(self):\n",
    "        \"\"\" 카테고리별 공모전 리스트 크롤링 \"\"\"\n",
    "        print(\"===== [Thinkgood]  Start Crawling data... =====\")\n",
    "        for category in self.categories:\n",
    "            for state in tqdm(self.categories_state):\n",
    "                page = 1\n",
    "                while 42:\n",
    "                    req = requests.get(self.base_url + category + state + '&page=' + str(page))\n",
    "                    soup = BeautifulSoup(req.content, \"html.parser\")\n",
    "                    data_list = soup.select(self.select)\n",
    "                    self.scraping(data_list)\n",
    "                    if len(data_list) == 0: \n",
    "                        break\n",
    "                    page += 1\n",
    "        print(\"===== [Thinkgood] Finish Crawling data... =====\")\n",
    "\n",
    "    def scraping(self, data_list):\n",
    "        \"\"\"\n",
    "        공모전 세부 정보 크롤링 & dict 형태로 데이터 저장\n",
    "        공모전 이름(title): [기간(host),\n",
    "                          분류(classify) - 과학/공학, 소프트웨어 항목만,\n",
    "                          주최자(host),\n",
    "                          사이트링크(link)]\n",
    "        \"\"\"\n",
    "        for data in data_list:\n",
    "            req = requests.get('https://www.thinkcontest.com' + data.get('href'))\n",
    "            soup = BeautifulSoup(req.content, \"html.parser\")\n",
    "            tmp = soup.find(class_='body contest-detail')\n",
    "            val_tmp = tmp.select('div.contest-overview > table.type-5 > tbody > tr > td')\n",
    "            title = soup.find(class_='body contest-detail').find(class_='title').get_text()\n",
    "            term = val_tmp[-3].get_text()\n",
    "            classify = tmp.find(class_='divided').get_text().replace(\"\\n\", \", \")[2: -2]\n",
    "            host = tmp.find(class_=\"linker\").get_text().replace('\\ue89e', '')\n",
    "            link = tmp.find(class_=\"linker\").get('href')\n",
    "            self.contests[title] = [term, classify, host, link]\n",
    "\n",
    "    def save(self):\n",
    "#        base_dir = os.path.dirname(os.path.abspath(__file__))\n",
    "#        with open(os.path.join(base_dir, 'thinkgood.json'), 'w+', encoding='utf-8') as json_file:\n",
    "#            json.dump(self.contests, json_file, ensure_ascii=False, indent='\\t')\n",
    "        file_path = './thinkgood.json'\n",
    "        with open(file_path, 'w', -1, \"utf-8\") as json_file:\n",
    "            json.dump(self.contests, json_file, ensure_ascii=False, indent='\\t')\n",
    "        print(\"===== [Thinkgood] Save data... =====\\n\")\n",
    "\n",
    "    def check_result(self):\n",
    "        for key, value in self.contests.items():\n",
    "            print(key, \":\", value)"
   ]
  },
  {
   "cell_type": "code",
   "execution_count": 46,
   "metadata": {},
   "outputs": [
    {
     "name": "stderr",
     "output_type": "stream",
     "text": [
      "  0%|                                                                                            | 0/3 [00:00<?, ?it/s]"
     ]
    },
    {
     "name": "stdout",
     "output_type": "stream",
     "text": [
      "===== [Thinkgood]  Start Crawling data... =====\n"
     ]
    },
    {
     "name": "stderr",
     "output_type": "stream",
     "text": [
      "100%|████████████████████████████████████████████████████████████████████████████████████| 3/3 [03:10<00:00, 63.64s/it]\n",
      "100%|████████████████████████████████████████████████████████████████████████████████████| 3/3 [01:59<00:00, 39.69s/it]"
     ]
    },
    {
     "name": "stdout",
     "output_type": "stream",
     "text": [
      "===== [Thinkgood] Finish Crawling data... =====\n"
     ]
    },
    {
     "name": "stderr",
     "output_type": "stream",
     "text": [
      "\n"
     ]
    }
   ],
   "source": [
    "TG = Thinkgood()\n",
    "TG.crawling()"
   ]
  },
  {
   "cell_type": "code",
   "execution_count": 47,
   "metadata": {},
   "outputs": [
    {
     "data": {
      "text/plain": [
       "61"
      ]
     },
     "execution_count": 47,
     "metadata": {},
     "output_type": "execute_result"
    }
   ],
   "source": [
    "len(TG.contests)"
   ]
  },
  {
   "cell_type": "code",
   "execution_count": 48,
   "metadata": {},
   "outputs": [
    {
     "name": "stdout",
     "output_type": "stream",
     "text": [
      "===== [Thinkgood] Save data... =====\n",
      "\n"
     ]
    }
   ],
   "source": [
    "TG.save()"
   ]
  },
  {
   "cell_type": "code",
   "execution_count": 49,
   "metadata": {},
   "outputs": [
    {
     "name": "stdout",
     "output_type": "stream",
     "text": [
      "환경 콘텐츠 비즈니스 지원사업 해커톤 모집 : ['300만원', '기획/아이디어, 과학/공학', '홈페이지', 'https://www.gcon.or.kr/busiNotice/view?pageNum=1&rowCnt=10&linkId=9967&menuId=MENU02369&schType=0&schText=&boardStyle=&categoryId=&continent=&country=']\n",
      "2020년 ICT 솔루션을 활용하여 국민 생활문제를 해결하는 '솔.직 챌린지' (총 상금 2억 3천만원) : ['2020-06-01 ~ 2020-08-14', '기획/아이디어, 과학/공학, 게임/소프트웨어, 취업/창업', '솔직챌린지 접수페이지', 'http://www.ictchallenge.kr']\n",
      "2020년 국민행복 IT 경진대회 : ['150만원', '과학/공학', '국민행복 IT 경진대회', 'http://find.nia.or.kr//']\n",
      "(경진대회) [하포리서치코리아] Challenge 2020 (~8/19) 예측모델개발 대회 : ['2020-07-06 ~ 2020-08-19', '과학/공학, 대외활동, 해외', '홈페이지', 'http://www.haafor.com/']\n",
      "시화 공상과학 프로젝트 : ['\\n\\n체험ㆍ참여\\n\\n', '과학/공학', '[2020 시화 공상(공구상가)+과학 프로젝트] 모집', 'https://form.office.naver.com/form/responseView.cmd?formkey=YThjNGY2YWEtNTcyMi00MzAxLWEzODgtOTY1MTI2N2Q0M2M4&sourceId=urlshare']\n",
      "(서포터즈) 어플라이드 머티어리얼즈 코리아 서포터즈 '리얼즈' 모집 : ['체험/참여', '과학/공학, 대외활동', '어플라이드 머티어리얼즈 코리아', 'http://www.appliedmaterials.com/ko']\n",
      "서울시와 ICT콤플렉스가 함께하는 2020 ICT 콕 AI 공모전 : ['2020-07-29 ~ 2020-08-12', '기획/아이디어, 과학/공학', '공지사항', 'http://ictcoc.kr/01_ict/ict06_view.asp?idx=262']\n",
      "(기타) 핀테크 AI 온라인 해커톤 by 앵커밸류 : ['2020-07-27 ~ 2020-08-16', '과학/공학, 게임/소프트웨어, 취업/창업', '접수페이지', 'https://forms.gle/myBn3Hn3MKoUuUJB7']\n",
      "2020 SMART CITY 시민참여 아이디어 경진대회 : ['2020-07-20 ~ 2020-08-14', '기획/아이디어, 과학/공학, 대외활동', '공모전 페이지', 'http://www.smartcityidea.or.kr']\n",
      "2020 마이데이터 비즈니스 아이디어 기획·개발 공모전 : ['500만원', '기획/아이디어, 과학/공학, 게임/소프트웨어, 취업/창업', '한국데이터산업진흥원', 'https://www.kdata.or.kr/board/notice_01_view.html?dbnum=2221']\n",
      "제1회 ICT 장애인 보조공학기기 공모전 : ['1,000만원', '과학/공학', '공모전 페이지', 'https://www.true-inno.com/']\n",
      "제24회 젊은과학자상 선정 계획 공고 : ['\\n\\n체험ㆍ참여\\n\\n', '과학/공학', '공지사항', 'https://www.gov.kr/portal/cnstexhb/6890']\n",
      "(경진대회) 음성 중첩 데이터 분류 AI 경진대회 : ['2020-06-25 ~ 2020-08-14', '과학/공학, 게임/소프트웨어', '음성 중첩 데이터 분류 AI 경진대회', 'https://dacon.io/competitions/official/235616/overview/']\n",
      "NASA’s Lunar Loo Challenge - Junior Category (나사 우주인 화장실 아이디어 공모전) : ['2020-06-25 ~ 2020-08-18', '기획/아이디어, 과학/공학', 'herox', 'https://www.herox.com/LunarLooJr/timeline']\n",
      "2020년 한강건축상상전 아이디어 공모 : 나의 한강사용법 : ['2020-07-30 ~ 2020-09-16', '기획/아이디어, 디자인, 광고/마케팅, 과학/공학, 건축/건설, 대외활동', '한강건축상사전', 'http://hangangriver.kr/']\n",
      "2020 창원 빅데이터 공모전 : ['기획 100만원 / 분석 500만원', '기획/아이디어, 과학/공학', '홈페이지', 'https://www.changwon.go.kr/sotong/contest/list.do?mId=0104000000']\n",
      "제5회 전기사랑 스피치대회 : ['2020-06-01 ~ 2020-09-11', '기획/아이디어, 과학/공학', '전기사랑 스피치대회', 'http://sp.electimes.com']\n",
      "2020 금융 빅데이터 아이디어 공모전 (~9/14) : ['2020-05-13 ~ 2020-09-14', '논문/리포트, 기획/아이디어, 과학/공학, 게임/소프트웨어', '금융보안원', 'http://www.fsec.or.kr']\n",
      "제4회 금융보안원 논문 공모전 : ['2020-05-07 ~ 2020-09-14', '논문/리포트, 기획/아이디어, 과학/공학', '금융보안원 공지사항', 'https://www.fsec.or.kr/user/bbs/fsec/21/13/bbsDataView/1411.do?page=1&column=&search=&searchSDate=&searchEDate=&bbsDataCategory=']\n",
      "스마트시티 어린이 그림그리기 공모전 : ['2020-08-10 ~ 2020-09-21', '기획/아이디어, 디자인, 예체능, 과학/공학, 건축/건설, 경품/이벤트', '월드 스마트시티 엑스포', 'http://www.worldsmartcityexpo.com/main.action']\n",
      "데이터 기반 코로나19 예측 공모전 : ['2020-07-30 ~ 2020-09-04', '기획/아이디어, 과학/공학, 게임/소프트웨어', '경기도경제과학진흥원', 'https://www.gidcc.or.kr']\n",
      "(교육/강연) 제13기 빅데이터 아카데미 (서울/대구) : ['2020-08-06 ~ 2020-08-21', '논문/리포트, 과학/공학, 대외활동, 취업/창업', '빅데이터 분석 솔루션 텍스톰(TEXTOM)', 'http://www.textom.co.kr']\n",
      "(취업/창업) [한국항공우주연구원] 2020년 항공우주기술 기반 예비창업자 지원 사업, STAR Exploration(~8/26) : ['2020-07-27 ~ 2020-08-26', '과학/공학, 취업/창업', '공모전페이지', 'http://star-exploration.com']\n",
      "Ericsson Innovation Awards 2020​ - Reclaim the future : ['2020-08-03 ~ 2020-09-30', '기획/아이디어, 과학/공학', 'Ericsson Innovation Awards 2020\\u200b', 'https://www.ericsson.com/en/careers/eia']\n",
      "2020 ETRI 자율성장 인공지능 경진대회 : ['2020-08-03 ~ 2020-10-13', '논문/리포트, 기획/아이디어, 과학/공학', '2020 ETRI 자율성장 인공지능 경진대회', 'https://fashion-how.org/']\n",
      "월드워터챌린지 2020 : ['2020-07-22 ~ 2020-08-30', '논문/리포트, 기획/아이디어, 과학/공학', '대한민국 국제물주간 2020', 'http://www.kiww.org/fairDash.do']\n",
      "차세대 약물전달 플랫폼 연구공모전 1st BioDrone Award : ['\\n\\n체험ㆍ참여\\n\\n', '과학/공학', '엠디뮨', 'http://www.mdimune.com/']\n",
      "(경진대회) 제8회 데이터분석 경진대회 2020 빅콘테스트 : ['2020-07-20 ~ 2020-09-28', '과학/공학', '2020 빅콘테스트', 'https://www.bigcontest.or.kr/']\n",
      "엠디뮨 1st BioDrone Award 연구공모전 : ['\\n\\n기타\\n\\n', '과학/공학', '엠디뮨 홈페이지', 'http://www.mdimune.com/']\n",
      "LA+ CREATURE 국제 디자인 아이디어 공모전 : ['2020-06-01 ~ 2020-10-20', '디자인, 과학/공학, 건축/건설, 대외활동, 해외', '공모전 페이지', 'https://laplus.slideroom.com/#/Login\\u200b']\n",
      "제1회 인천국제해양포럼(IIOF 2020) 해양산업발전 아이디어 및 논문 공모전 : ['2020-07-15 ~ 2020-09-30', '논문/리포트, 기획/아이디어, 광고/마케팅, 과학/공학, 건축/건설', '제1회 인천국제해양포럼(IIOF 2020)', 'http://iiof2020.com']\n",
      "(경진대회) 2020 온비드 OPEN API 앱(웹) 개발 및 아이디어 경진대회 : ['50만원', '기획/아이디어, 과학/공학, 취업/창업', '온비드', 'www.onbid.co.kr']\n",
      "제 9회 에너지·환경 탐구대회 : ['\\n\\n체험ㆍ참여\\n기타\\n\\n', '과학/공학, 대외활동', '꿈나무 푸른교실', 'www.e-gen.co.kr']\n",
      "넥슨컴퓨터박물관, SKT와 VR·AR 콘텐츠 공모전 : ['2020-07-01 ~ 2020-09-15', '과학/공학', '홈페이지', 'https://nexoncomputermuseum.org/?mcode=0706']\n",
      "2020년 창의발명교육 체험수기 공모전 : ['2020-05-15 ~ 2020-10-16', '문학/수기, 과학/공학', '발명교육포털사이트', 'http://www.ip-edu.net/']\n",
      "2020 암호분석경진대회 : ['2020-06-01 ~ 2020-08-31', '과학/공학, 게임/소프트웨어', '2020 암호분석경진대회', 'http://cryptocontest.kr/']\n",
      "(교육/강연) 제1회 빅데이터 제조·기획 분야 전문가 과정 교육생 모집 : ['\\n\\n체험ㆍ참여\\n\\n', '과학/공학', '빅데이터 아카데미', 'http://bigdata.dbguide.net/']\n",
      "2020년 대국민 환경 빅데이터 공모전 : ['300만원', '기획/아이디어, 과학/공학', '홈페이지', 'https://www.bigdata-environment.kr/user/main.do']\n",
      "2020 암 빅데이터 활용 인공지능 아이디어 경진대회 : ['2020-09-01 ~ 2020-09-06', '기획/아이디어, 과학/공학', '국립암센터', 'https://cancerportal.kr']\n",
      "2020 도자 3D모델링 공모전 : ['300만원', '기획/아이디어, 디자인, 과학/공학, 게임/소프트웨어, 건축/건설, 전시/페스티발', '공예창작지원센터', 'http://csic.kr/bbs/board.asp?tbl=info1&mode=V&no=87']\n",
      "방구석 1열 로봇대축제, 2020 스팀컵 앳홈 : ['*부문별 상이', 'UCC/영상, 과학/공학', '(사)스팀교육협회', 'http://www.steamcup.org/ko/']\n",
      "교통 빅데이터 활용 공모전 : ['1,000만원', '기획/아이디어, 과학/공학, 게임/소프트웨어, 건축/건설, 취업/창업', '교통 빅데이터 활용 공모전', 'www.rndcontest.org']\n",
      "청소년카트라이더 리그! 뛰뛰, 성동의 질주! : ['2020-08-07 ~ 2020-08-17', '게임/소프트웨어, 대외활동', '서울시립성동청소년센터', 'www.sdyc.or.kr']\n",
      "Fintech AI 온라인 해커톤, 최대 1억원 창업 투자 지원 : ['2020-07-26 ~ 2020-08-16', '기획/아이디어, 게임/소프트웨어, 취업/창업', '국민생각함', 'https://forms.gle/myBn3Hn3MKoUuUJB7']\n",
      "BIC Make Play Jam 3rd_Adventure : ['2020-07-15 ~ 2020-08-19', '게임/소프트웨어', '공모요강 페이지', 'https://www.onoffmix.com/event/219200']\n",
      "게임문화 창작콘텐츠 공모전 : ['2020-07-13 ~ 2020-09-14', '기획/아이디어, 디자인, 광고/마케팅, UCC/영상, 예체능, 문학/수기, 캐릭터/만화, 게임/소프트웨어', '홈페이지', 'http://www.koccagccontest.com ']\n",
      "컴투스 글로벌 게임문학상 2020 : ['2020-07-20 ~ 2020-08-31', '기획/아이디어, 문학/수기, 게임/소프트웨어', '컴투스 홈페이지', 'https://com2us.com/storyaward']\n",
      "제3회 팩트체킹 공모전 : ['2020-06-15 ~ 2020-10-05', '네이밍/슬로건, 디자인, UCC/영상, 문학/수기, 캐릭터/만화, 게임/소프트웨어', '제3회 팩트체킹 공모전 홈페이지', 'http://factcheckcontest.com/']\n",
      "브랜디 코딩대회 [코드네임B_] : ['2020-08-09 ~ 2020-08-26', '게임/소프트웨어', '브랜디', 'https://www.wanted.co.kr/events/codename_b']\n",
      "BIAF2020 제 4회 단편애니메이션제작지원 작품 공모 : ['40,000,000원', '논문/리포트, 기획/아이디어, 디자인, 광고/마케팅, 사진, UCC/영상, 예체능, 캐릭터/만화, 게임/소프트웨어, 대외활동, 취업/창업, 전시/페스티발, 장학(금)재단', 'BIAF 공식 홈페이지', 'http://www.biaf.or.kr']\n",
      "(서포터즈) 전북글로벌게임센터 2020년 서포터즈 2차 모집 : ['2020-08-03 ~ 2020-08-23', '게임/소프트웨어, 대외활동', '요강 페이지', 'https://blog.naver.com/jbgc01/222050142023']\n",
      "(경진대회) 2020 국어 정보 처리 시스템 경진 대회 : ['2020-07-22 ~ 2020-09-11', '기획/아이디어, 게임/소프트웨어', '공모전 홈페이지', 'https://www.hkd.or.kr/']\n",
      "(경진대회) [데이콘] 산업제어시스템 보안위협 탐지 AI 경진대회 : ['2020-07-27 ~ 2020-09-29', '게임/소프트웨어', '데이콘', 'https://www.dacon.io/competitions/official/235624/overview/']\n",
      "넥슨컴퓨터박물관XSK텔레콤 VR·AR 공모전 : ['2020-07-01 ~ 2020-09-15', '기획/아이디어, 디자인, UCC/영상, 게임/소프트웨어, 해외', '넥슨박물관', 'https://nexoncomputermuseum.org/?mcode=0706']\n",
      "같이 짓는 가치!! 기술협력 공모전 : ['2020-07-20 ~ 2020-08-31', '기획/아이디어, 게임/소프트웨어, 건축/건설', 'POSCO E&C 홈페이지', 'https://ndsaweb.poscoenc.com/DSA/DSA_BS/TechnicalProposal/DSA_BS1400Q?startId=BS0104']\n",
      "심심이 이야기게임 공모전 : ['2020-07-01 ~ 2020-09-29', '문학/수기, 캐릭터/만화, 게임/소프트웨어', '심심이', 'https://www.simsimi.com']\n",
      "제2회 소프트웨어(SW) 수업 우수사례 공모전 : ['300만원', '게임/소프트웨어', '한국과학창의재단', 'https://www.kofac.re.kr/web/contents/openBusiness1-1.do?schM=view&id=17852']\n",
      "네이버웹툰과 함께하는 게임 공모전 : ['2020-06-22 ~ 2020-08-31', '게임/소프트웨어', '네이버웹툰과 함께하는 게임 공모전', 'https://comic.naver.com/contest/game/webtoon.nhn']\n",
      "넥슨컴퓨터박물관 다섯 번째 가상현실 콘텐츠 공모전 2020 NCM OPEN CALL V Reality : ['2020-07-01 ~ 2020-08-31', '디자인, 게임/소프트웨어', '넥슨컴퓨터박물관', 'https://nexoncomputermuseum.org/?mcode=0706']\n",
      "제5회 Bu:Star 챌린지 게임 공모전 : ['500만원', '게임/소프트웨어', '부산정보산업진흥원', 'http://www.busanit.or.kr/board/view.asp?bidx=9863&bcode=notice&ipage=1&sword=&search_txt=']\n",
      "2020 전북 기능성게임 아카데미[기능성게임 제작대회] : ['200만원', '게임/소프트웨어', '전북 기능성게임 아카데미', 'http://www.jbga.co.kr/']\n"
     ]
    }
   ],
   "source": [
    "TG.check_result()"
   ]
  },
  {
   "cell_type": "code",
   "execution_count": null,
   "metadata": {},
   "outputs": [],
   "source": []
  },
  {
   "cell_type": "code",
   "execution_count": null,
   "metadata": {},
   "outputs": [],
   "source": []
  },
  {
   "cell_type": "code",
   "execution_count": null,
   "metadata": {},
   "outputs": [],
   "source": []
  }
 ],
 "metadata": {
  "kernelspec": {
   "display_name": "Python 3",
   "language": "python",
   "name": "python3"
  },
  "language_info": {
   "codemirror_mode": {
    "name": "ipython",
    "version": 3
   },
   "file_extension": ".py",
   "mimetype": "text/x-python",
   "name": "python",
   "nbconvert_exporter": "python",
   "pygments_lexer": "ipython3",
   "version": "3.7.3"
  }
 },
 "nbformat": 4,
 "nbformat_minor": 4
}
