{
 "cells": [
  {
   "cell_type": "code",
   "execution_count": 1,
   "metadata": {},
   "outputs": [],
   "source": [
    "import requests\n",
    "from bs4 import BeautifulSoup\n",
    "import os"
   ]
  },
  {
   "cell_type": "markdown",
   "metadata": {},
   "source": [
    "## 공모전 이름과 주소 크롤링 하기"
   ]
  },
  {
   "cell_type": "code",
   "execution_count": 2,
   "metadata": {},
   "outputs": [
    {
     "name": "stdout",
     "output_type": "stream",
     "text": [
      "크롤링된 공모전 수:  10\n"
     ]
    }
   ],
   "source": [
    "html = requests.get(\n",
    "    'https://www.thinkcontest.com/Contest/CateField.html?page=1&c=12').content\n",
    "soup = BeautifulSoup(html, 'lxml')\n",
    "data = soup.select(\n",
    "    \"div#wrapper > div#trunk > div#main > div.container > div.body.contest-cate > div.all-contest > table.type-2.mg-t-5.contest-table > tbody > tr > td.txt-left > div.contest-title > a\"\n",
    ")\n",
    "\n",
    "print(\"크롤링된 공모전 수: \", len(data))"
   ]
  },
  {
   "cell_type": "code",
   "execution_count": 3,
   "metadata": {
    "code_folding": [],
    "scrolled": true
   },
   "outputs": [
    {
     "name": "stdout",
     "output_type": "stream",
     "text": [
      "제5회 Bu:Star 챌린지 게임 공모전 https://www.thinkcontest.com//Contest/ContestDetail.html?id=18597\n",
      "게임문화 창작콘텐츠 공모전 https://www.thinkcontest.com//Contest/ContestDetail.html?id=17925\n",
      "컴투스 글로벌 게임문학상 2020 https://www.thinkcontest.com//Contest/ContestDetail.html?id=17852\n",
      "제3회 팩트체킹 공모전 https://www.thinkcontest.com//Contest/ContestDetail.html?id=17528\n",
      "2020년 ICT 솔루션을 활용하여 국민 생활문제를 해결하는 '솔.직 챌린지' (총 상금 2억 3천만원) https://www.thinkcontest.com//Contest/ContestDetail.html?id=16397\n",
      "2020 금융 빅데이터 아이디어 공모전 (~9/14) https://www.thinkcontest.com//Contest/ContestDetail.html?id=16210\n",
      "(서포터즈) 전북글로벌게임센터 2020년 서포터즈 2차 모집 https://www.thinkcontest.com//Contest/ContestDetail.html?id=19555\n",
      "(경진대회) 2020 국어 정보 처리 시스템 경진 대회 https://www.thinkcontest.com//Contest/ContestDetail.html?id=19399\n",
      "(기타) 핀테크 AI 온라인 해커톤 by 앵커밸류 https://www.thinkcontest.com//Contest/ContestDetail.html?id=19326\n",
      "(경진대회) [데이콘] 산업제어시스템 보안위협 탐지 AI 경진대회 https://www.thinkcontest.com//Contest/ContestDetail.html?id=19247\n"
     ]
    }
   ],
   "source": [
    "contest = {}\n",
    "\n",
    "for t in data:\n",
    "    name = t.get_text().replace(\"\\n\", \"\")\n",
    "    contest[name] = 'https://www.thinkcontest.com/' + t['href']\n",
    "\n",
    "for key, value in contest.items():\n",
    "    print(key, value)"
   ]
  },
  {
   "cell_type": "markdown",
   "metadata": {},
   "source": [
    "## 공모전 기간 크롤링"
   ]
  },
  {
   "cell_type": "code",
   "execution_count": 4,
   "metadata": {},
   "outputs": [
    {
     "name": "stdout",
     "output_type": "stream",
     "text": [
      "10\n"
     ]
    }
   ],
   "source": [
    "data = soup.select(\n",
    "    \"div#wrapper > div#trunk > div#main > div.container > div.body.contest-cate > div.all-contest > table.type-2.mg-t-5.contest-table > tbody > tr > td > p\"\n",
    ")\n",
    "print(len(data))"
   ]
  },
  {
   "cell_type": "code",
   "execution_count": 5,
   "metadata": {
    "scrolled": true
   },
   "outputs": [
    {
     "data": {
      "text/plain": [
       "['D-54', 'D-40', 'D-26', 'D-61', 'D-9', 'D-40', 'D-18', 'D-37', 'D-11', 'D-55']"
      ]
     },
     "execution_count": 5,
     "metadata": {},
     "output_type": "execute_result"
    }
   ],
   "source": [
    "days = []\n",
    "for t in data:\n",
    "    day = t.get_text()\n",
    "    days.append(day)\n",
    "\n",
    "days"
   ]
  },
  {
   "cell_type": "markdown",
   "metadata": {},
   "source": [
    "## 공모전 분야 크롤링"
   ]
  },
  {
   "cell_type": "code",
   "execution_count": 6,
   "metadata": {},
   "outputs": [
    {
     "name": "stdout",
     "output_type": "stream",
     "text": [
      "10\n"
     ]
    }
   ],
   "source": [
    "data = soup.select(\n",
    "    \"div#wrapper > div#trunk > div#main > div.container > div.body.contest-cate > div.all-contest > table.type-2.mg-t-5.contest-table > tbody > tr > td > div.contest-cate\"\n",
    ")\n",
    "print(len(data))"
   ]
  },
  {
   "cell_type": "code",
   "execution_count": 7,
   "metadata": {
    "scrolled": true
   },
   "outputs": [
    {
     "data": {
      "text/plain": [
       "[['게임', '소프트웨어'],\n",
       " ['기획',\n",
       "  '아이디어',\n",
       "  '디자인',\n",
       "  '광고',\n",
       "  '마케팅',\n",
       "  'UCC',\n",
       "  '영상',\n",
       "  '예체능',\n",
       "  '문학',\n",
       "  '수기',\n",
       "  '캐릭터',\n",
       "  '만화',\n",
       "  '게임',\n",
       "  '소프트웨어'],\n",
       " ['기획', '아이디어', '문학', '수기', '게임', '소프트웨어'],\n",
       " ['네이밍', '슬로건', '디자인', 'UCC', '영상', '문학', '수기', '캐릭터', '만화', '게임', '소프트웨어'],\n",
       " ['기획', '아이디어', '과학', '공학', '게임', '소프트웨어', '취업', '창업'],\n",
       " ['논문', '리포트', '기획', '아이디어', '과학', '공학', '게임', '소프트웨어'],\n",
       " ['게임', '소프트웨어', '대외활동'],\n",
       " ['기획', '아이디어', '게임', '소프트웨어'],\n",
       " ['과학', '공학', '게임', '소프트웨어', '취업', '창업'],\n",
       " ['게임', '소프트웨어']]"
      ]
     },
     "execution_count": 7,
     "metadata": {},
     "output_type": "execute_result"
    }
   ],
   "source": [
    "fields = []\n",
    "for t in data:\n",
    "    t = t.get_text().replace('\\n', ' ')\n",
    "    t = t.replace('/', ' ')\n",
    "    t = t.split()\n",
    "    fields.append(t)\n",
    "\n",
    "fields"
   ]
  },
  {
   "cell_type": "markdown",
   "metadata": {},
   "source": [
    "## 주최사 크롤링 X -> 안 나와 있음"
   ]
  },
  {
   "cell_type": "code",
   "execution_count": 8,
   "metadata": {},
   "outputs": [],
   "source": [
    "# data = soup.select(\n",
    "#     \"div#wrapper > div#trunk > div#main > div.container > div.body.contest-cate > div.all-contest > table.type-2.mg-t-5.contest-table > tbody > tr > td > div.contest-cate\"\n",
    "# )\n",
    "# print(len(data))"
   ]
  },
  {
   "cell_type": "code",
   "execution_count": 9,
   "metadata": {},
   "outputs": [],
   "source": [
    "# organ = []\n",
    "# for t in data:\n",
    "#     a = t.get_text()\n",
    "#     organ.append(a)\n",
    "\n",
    "# organ"
   ]
  },
  {
   "cell_type": "code",
   "execution_count": null,
   "metadata": {},
   "outputs": [],
   "source": []
  }
 ],
 "metadata": {
  "kernelspec": {
   "display_name": "Python 3",
   "language": "python",
   "name": "python3"
  },
  "language_info": {
   "codemirror_mode": {
    "name": "ipython",
    "version": 3
   },
   "file_extension": ".py",
   "mimetype": "text/x-python",
   "name": "python",
   "nbconvert_exporter": "python",
   "pygments_lexer": "ipython3",
   "version": "3.6.10"
  },
  "toc": {
   "base_numbering": 1,
   "nav_menu": {},
   "number_sections": true,
   "sideBar": true,
   "skip_h1_title": false,
   "title_cell": "Table of Contents",
   "title_sidebar": "Contents",
   "toc_cell": false,
   "toc_position": {},
   "toc_section_display": true,
   "toc_window_display": false
  },
  "varInspector": {
   "cols": {
    "lenName": 16,
    "lenType": 16,
    "lenVar": 40
   },
   "kernels_config": {
    "python": {
     "delete_cmd_postfix": "",
     "delete_cmd_prefix": "del ",
     "library": "var_list.py",
     "varRefreshCmd": "print(var_dic_list())"
    },
    "r": {
     "delete_cmd_postfix": ") ",
     "delete_cmd_prefix": "rm(",
     "library": "var_list.r",
     "varRefreshCmd": "cat(var_dic_list()) "
    }
   },
   "types_to_exclude": [
    "module",
    "function",
    "builtin_function_or_method",
    "instance",
    "_Feature"
   ],
   "window_display": false
  }
 },
 "nbformat": 4,
 "nbformat_minor": 4
}
